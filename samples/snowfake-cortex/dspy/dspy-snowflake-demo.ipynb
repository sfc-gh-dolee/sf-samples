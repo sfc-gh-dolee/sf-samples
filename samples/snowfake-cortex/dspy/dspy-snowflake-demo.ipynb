{
 "cells": [
  {
   "cell_type": "markdown",
   "metadata": {},
   "source": [
    "# DSPY + Snowflake: Towards Secure and Future-Proof LLM Pipelines"
   ]
  },
  {
   "cell_type": "markdown",
   "metadata": {},
   "source": [
    "DSPy is an open source framework for declaritively building LLM pipelines and automatically optimizing prompts. Snowflake Cortex is a managed LLM service that allows users to leverage LLM's without taking data out of Snowflake.\n",
    "\n",
    "This notebook is based on the [DSPY tutorials](https://dspy-docs.vercel.app/docs/category/tutorials) and will walk you through how to use DSPy to do: \n",
    "* Basic RAG - Build a simple RAG program using the declaritive programming paradigm and Snowflake Cortex LLMs \n",
    "* End to End RAG in Snowflake - RAG example using a knowledge base and embeddings stored in Snowflake using the DSPy Snowflake Retriever\n",
    "* Multi Hop RAG - Build an architecture that can break down complex questions and ask follow ups\n",
    "* Pipeline Optimization - Automatically optimize Snowflake Cortex prompts to eliminate the need for manual prompt engineering"
   ]
  },
  {
   "cell_type": "markdown",
   "metadata": {},
   "source": [
    "# DSPY Setup"
   ]
  },
  {
   "cell_type": "markdown",
   "metadata": {},
   "source": [
    "If you don't already have dspy and the snowpark dependencies installed on your machine, you can install them with pip:"
   ]
  },
  {
   "cell_type": "code",
   "execution_count": null,
   "metadata": {},
   "outputs": [],
   "source": [
    "!pip install dspy-ai[snowflake]"
   ]
  },
  {
   "cell_type": "markdown",
   "metadata": {},
   "source": [
    "The fundamental elements of a RAG architecture include:\n",
    "* A Language Model (LM) - Given context from a particular knowledge base, a LM generates the response to the user's prompt.\n",
    "* Knowledge Base - A database with passages and embeddings of content that will be required to generate the desired response.\n",
    "* Retriever - A mechanism for retrieving the relevant context required to generate a response to the user's prompt.\n",
    "\n"
   ]
  },
  {
   "cell_type": "markdown",
   "metadata": {},
   "source": [
    "To start, we will import the requirements for our program and load our Snowflake credentials."
   ]
  },
  {
   "cell_type": "code",
   "execution_count": 1,
   "metadata": {},
   "outputs": [],
   "source": [
    "import dspy\n",
    "from dspy.evaluate.evaluate import Evaluate\n",
    "from dspy.retrieve.snowflake_rm import SnowflakeRM\n",
    "from dspy.teleprompt import BootstrapFewShotWithRandomSearch\n",
    "from dsp.utils import deduplicate\n",
    "from snowflake.snowpark import Session\n",
    "import os\n",
    "import warnings\n",
    "warnings.filterwarnings(\"ignore\")\n",
    "\n",
    "connection_parameters = {\n",
    "    \n",
    "    \"account\": os.getenv('SNOWFLAKE_ACCOUNT'),\n",
    "    \"user\": os.getenv('SNOWFLAKE_USER'),\n",
    "    \"password\": os.getenv('SNOWFLAKE_PASSWORD'),\n",
    "    \"role\": os.getenv('SNOWFLAKE_ROLE'),\n",
    "    \"warehouse\": os.getenv('SNOWFLAKE_WAREHOUSE'),\n",
    "    \"database\": os.getenv('SNOWFLAKE_DATABASE'),\n",
    "    \"schema\": os.getenv('SNOWFLAKE_SCHEMA')}  \n"
   ]
  },
  {
   "cell_type": "markdown",
   "metadata": {},
   "source": [
    "Below we configure the basic program requirements:\n",
    "* LM: A Snowflake Cortex hosted Mixtral 8x7B model\n",
    "* Knowledge Base: Publicly hosted Wikipedia Abstracts from [2017 dump](https://hotpotqa.github.io/wiki-readme.html)\n",
    "* Retriever: Colbert V2"
   ]
  },
  {
   "cell_type": "code",
   "execution_count": 39,
   "metadata": {},
   "outputs": [],
   "source": [
    "turbo = dspy.Snowflake(model=\"mixtral-8x7b\",credentials=connection_parameters)\n",
    "colbertv2_wiki17_abstracts = dspy.ColBERTv2(url='http://20.102.90.50:2017/wiki17_abstracts')\n",
    "dspy.settings.configure(lm=turbo,rm=colbertv2_wiki17_abstracts)"
   ]
  },
  {
   "cell_type": "markdown",
   "metadata": {},
   "source": [
    "# Basic RAG Example"
   ]
  },
  {
   "cell_type": "markdown",
   "metadata": {},
   "source": [
    "Given a user's query, the most simple RAG architecture will \n",
    "1) Retrieve the K most relevant passages from our knowledge base for the user's query\n",
    "2) Generate a response to the query utilizing the the relevant passages retrieved in step 1.\n",
    "\n",
    "The building blocks of DSPy include:\n",
    "- DSPy Signatures to define the expected inputs and outputs of the program\n",
    "- DSPy Modules to define the core flow of your program"
   ]
  },
  {
   "cell_type": "code",
   "execution_count": 56,
   "metadata": {},
   "outputs": [],
   "source": [
    "class GenerateAnswer(dspy.Signature):\n",
    "    \"\"\"Answer questions with short factoid answers.\"\"\"\n",
    "\n",
    "    context = dspy.InputField(desc=\"may contain relevant facts\")\n",
    "    question = dspy.InputField()\n",
    "    answer = dspy.OutputField(desc=\"often between 1 and 10 words\")\n",
    "\n",
    "class RAG(dspy.Module):\n",
    "    def __init__(self, num_passages=5):\n",
    "        super().__init__()\n",
    "\n",
    "        self.retrieve = dspy.Retrieve(k=num_passages)\n",
    "        self.generate_answer = dspy.ChainOfThought(GenerateAnswer)\n",
    "    \n",
    "    def forward(self, question):\n",
    "        context = self.retrieve(question).passages\n",
    "        prediction = self.generate_answer(context=context, question=question)\n",
    "        return dspy.Prediction(context=context, answer=prediction.answer)\n"
   ]
  },
  {
   "cell_type": "markdown",
   "metadata": {},
   "source": [
    "Notice above that the implementation of our RAG pipeline is decoupled from our underlying data, from our language model, and from our prompt. `dspy.Retrieve` and `dspy.ChainOfThought` will use the user-configured retriever (`colbertv2_wiki17_abstracts`) and the user-configured language model (`turbo`) when the RAG pipeline is called."
   ]
  },
  {
   "cell_type": "code",
   "execution_count": 4,
   "metadata": {},
   "outputs": [
    {
     "data": {
      "text/plain": [
       "Prediction(\n",
       "    context=['David Gregory (physician) | David Gregory (20 December 1625 – 1720) was a Scottish physician and inventor. His surname is sometimes spelt as Gregorie, the original Scottish spelling. He inherited Kinnairdy Castle in 1664. Three of his twenty-nine children became mathematics professors. He is credited with inventing a military cannon that Isaac Newton described as \"being destructive to the human species\". Copies and details of the model no longer exist. Gregory\\'s use of a barometer to predict farming-related weather conditions led him to be accused of witchcraft by Presbyterian ministers from Aberdeen, although he was never convicted.', 'Gregory Tarchaneiotes | Gregory Tarchaneiotes (Greek: Γρηγόριος Ταρχανειώτης , Italian: \"Gregorio Tracanioto\" or \"Tracamoto\" ) was a \"protospatharius\" and the long-reigning catepan of Italy from 998 to 1006. In December 999, and again on February 2, 1002, he reinstituted and confirmed the possessions of the abbey and monks of Monte Cassino in Ascoli. In 1004, he fortified and expanded the castle of Dragonara on the Fortore. He gave it three circular towers and one square one. He also strengthened Lucera.', 'David Gregory (mathematician) | David Gregory (originally spelt Gregorie) FRS (? 1659 – 10 October 1708) was a Scottish mathematician and astronomer. He was professor of mathematics at the University of Edinburgh, Savilian Professor of Astronomy at the University of Oxford, and a commentator on Isaac Newton\\'s \"Principia\".'],\n",
       "    answer='Kinnairdy Castle'\n",
       ")"
      ]
     },
     "execution_count": 4,
     "metadata": {},
     "output_type": "execute_result"
    }
   ],
   "source": [
    "rag = RAG()\n",
    "rag(\"What castle did David Gregory inherit?\")"
   ]
  },
  {
   "cell_type": "markdown",
   "metadata": {},
   "source": [
    "We can see that the pipeline returns a dspy.Predicition object that contains the relevant context that was retrieved from our knowledge base and the final answer generated by the language model using Chain of Thought."
   ]
  },
  {
   "cell_type": "code",
   "execution_count": 6,
   "metadata": {},
   "outputs": [
    {
     "data": {
      "text/plain": [
       "Prediction(\n",
       "    context=['David Gregory (physician) | David Gregory (20 December 1625 – 1720) was a Scottish physician and inventor. His surname is sometimes spelt as Gregorie, the original Scottish spelling. He inherited Kinnairdy Castle in 1664. Three of his twenty-nine children became mathematics professors. He is credited with inventing a military cannon that Isaac Newton described as \"being destructive to the human species\". Copies and details of the model no longer exist. Gregory\\'s use of a barometer to predict farming-related weather conditions led him to be accused of witchcraft by Presbyterian ministers from Aberdeen, although he was never convicted.', 'The Boleyn Inheritance | The Boleyn Inheritance is a novel by British author Philippa Gregory which was first published in 2006. It is a direct sequel to her previous novel \"The Other Boleyn Girl,\" and one of the additions to her six-part series on the Tudor royals. (The other titles in the series are \"The Constant Princess,\" \"The Queen\\'s Fool,\" \"The Virgin\\'s Lover,and The Other Queen.\") * The novel is told through the first-person narratives of – Anne of Cleves, Katherine Howard, and Jane Boleyn, who was mentioned in \"The Other Boleyn Girl.\" It covers a period from 1539 until 1542 and chronicles the fourth and fifth marriages of King Henry VIII of England.', 'Gregory of Gaeta | Gregory was the Duke of Gaeta from 963 until his death. He was the second son of Docibilis II of Gaeta and his wife Orania. He succeeded his brother John II, who had left only daughters. Gregory rapidly depleted the \"publicum\" (public land) of the Duchy of Gaeta by doling it out to family members as grants. Gregory disappears from the records in 964 and was succeeded by his younger brother Marinus of Fondi over the heads of his three sons. It is possible that there was an internal power struggle between factions of the Docibilan family and that Gregory was forced out. On the other hand, perhaps he died and his sons fought a losing battle for their inheritance to Gaeta.', 'The Queen\\'s Fool | The Queen\\'s Fool by Philippa Gregory is a 2004 historical fiction novel. Set between 1548 and 1558, it is part of Philippa Gregory\\'s Tudor series. The series includes \"The Boleyn Inheritance\". The novel chronicles the changing fortunes of Mary I of England and her half-sister Elizabeth through the eyes of the fictional Hannah Green, a Marrano girl escaping to England from Spain where her mother was burned at the stake for being Jewish. Hannah is discovered by Robert Dudley and John Dee and subsequently begged as a fool to Edward VI. She witnesses and becomes caught up the intrigues of the young king\\'s court, and later those of his sisters. As Mary, Elizabeth, and Robert Dudley use Hannah to gather information on their rivals and further their own aims, the novel can plausibly present each side in the complex story. \"The Queen\\'s Fool\" follows Hannah from ages fourteen to nineteen, and her coming-of-age is interspersed among the historical narrative (see Bildungsroman). The book reached # 29 on the \"New York Times\" Best Seller list and had sold 165,000 copies within three weeks of its release.', 'Gregory Parsloe-Parsloe | Sir Gregory Parsloe-Parsloe, 7th Baronet is a fictional character from the Blandings stories of P. G. Wodehouse. The seventh Baronet, who resides at Matchingham Hall, he is the son of the Very Reverend Dean Parsloe-Parsloe and is the rival and enemy of Lord Emsworth, master of Blandings Castle.'],\n",
       "    answer='No information provided.'\n",
       ")"
      ]
     },
     "execution_count": 6,
     "metadata": {},
     "output_type": "execute_result"
    }
   ],
   "source": [
    "rag(\"How many stories did the castle that David Gregory inherited have?\")"
   ]
  },
  {
   "cell_type": "markdown",
   "metadata": {},
   "source": [
    "Note, while the basic RAG pipeline we built can answer the first simple question, it struggles when more complex reasoning is required. While our retriever is able to effectively get information about David Gregory and which castle he inherited, additional queries are required to retrieve information about the characteristics of the castle. We will explore building a more complex reasoning pipeline later in this notebook. "
   ]
  },
  {
   "cell_type": "markdown",
   "metadata": {},
   "source": [
    "# DSPy Snowlake Retriever "
   ]
  },
  {
   "cell_type": "markdown",
   "metadata": {},
   "source": [
    "The first example uses a Snowflake Cortex hosted Mixtral 8x7B model with and open source retriever and knowledge base (CoblertV2 server with the Wikipedia abstracts). But what if I want to securely store and manage my data inside of Snowflake?  "
   ]
  },
  {
   "cell_type": "markdown",
   "metadata": {},
   "source": [
    "### What if my knowledge base and embeddings are stored in Snowflake?"
   ]
  },
  {
   "cell_type": "markdown",
   "metadata": {},
   "source": [
    "We can utilize DSPY's Snowflake Retriever Module (RM) to point at whichever Snowflake table contains our embeddings. If our embeddings are not yet stored in Snowflake, but we have the raw data in a local directory or a Snowflake stage, we can easily generate and load the embeddings into a new Snowflake table using the SnowVecDB helper, which you can find [here](to_be_updated).\n",
    "\n",
    "To demonstrate the DSPy Snowflake RM in this notebook, we've used `SnowVectorDB` to generate the embeddings for the latest Snowflake 10Ks from the investor relations page [here](https://investors.snowflake.com/financials/sec-filings/default.aspx)."
   ]
  },
  {
   "cell_type": "markdown",
   "metadata": {},
   "source": [
    "#### Prepare the Embeddings [Optional]"
   ]
  },
  {
   "cell_type": "markdown",
   "metadata": {},
   "source": [
    "Below we create a new `10K_EMBEDDINGS` table using the annual reports that we've downloaded to a local directory. However, if your data is already in a Snowflake Stage, instead of using a local directory, you can point the helper module to generate the embeddings using your staged files, by using the `stage` argument in SVDB."
   ]
  },
  {
   "cell_type": "code",
   "execution_count": null,
   "metadata": {},
   "outputs": [],
   "source": [
    "from snowvecdb import SnowVectorDB\n",
    "snowpark =Session.builder.configs(connection_parameters).create()\n",
    "SVDB = SnowVectorDB(snowflake_session=snowpark,chunk_size=500,chunk_overlap=75)\n",
    "SVDB(vector_table_name=\"10K_EMBEDDINGS\",data_source_directory=\"/your_local_directory_with_files\")"
   ]
  },
  {
   "cell_type": "markdown",
   "metadata": {},
   "source": [
    "#### Setup the Snowflake Retriever"
   ]
  },
  {
   "cell_type": "markdown",
   "metadata": {},
   "source": [
    "With your embeddings in a Snowflake table, you can now setup the DSPy Snowflake retriever. \n",
    "\n",
    "The SVDB helper above creates the embeddings table with generic names for the passage (CHUNK) and the related embedding (CHUNK_VEC). By default, `SnowflakeRM` assumes your embeddings table has these headers, but you can easily ovverride them with the `embeddings_field` and `embeddings_field_text` arguments."
   ]
  },
  {
   "cell_type": "code",
   "execution_count": 4,
   "metadata": {},
   "outputs": [],
   "source": [
    "snowflake_retriever = SnowflakeRM(snowflake_table_name=\"10K_EMBEDDINGS\",snowflake_credentials=connection_parameters)\n",
    "dspy.settings.configure(lm=turbo,rm=snowflake_retriever)"
   ]
  },
  {
   "cell_type": "markdown",
   "metadata": {},
   "source": [
    "#### Test the Snowflake Retriever"
   ]
  },
  {
   "cell_type": "markdown",
   "metadata": {},
   "source": [
    "Above we update our DSPy settings to use the snowflake retriever instead of `colbertv2_wiki17_abstracts` so future calls to the same RAG pipeline will use the `10K_EMBEDDINGS` table under the hood. "
   ]
  },
  {
   "cell_type": "code",
   "execution_count": 8,
   "metadata": {},
   "outputs": [
    {
     "data": {
      "text/plain": [
       "Prediction(\n",
       "    context=['Our platform is the innovative technology that powers the Data Cloud, enabling customers to consolidate data into a single source of truth to drive meaningful insights, apply\\nAI to solve business problems, build data applications, and share data and data products. We provide our platform through a customer-centric, consumption-based business model,\\nonly charging customers for the resources they use.\\nSnowflake solves the decades-old problem of data silos and data governance. Leveraging the elasticity and performance of the public cloud, our platform enables customers to\\nunify and query data to support a wide variety of use cases. It also provides frictionless and governed data access so users can securely share data inside and outside of their\\norganizations, generally without copying or moving the underlying data. As a result, customers can blend existing data with new data for broader context, augment data science\\nefforts, and create new monetization streams. Delivered as a service, our platform requires near-zero maintenance, enabling customers to focus on deriving value from their data\\nrather than managing infrastructure.\\nOur cloud-native architecture consists of three independently scalable but logically integrated layers across compute, storage, and cloud services. The compute layer provides\\ndedicated resources to enable users to simultaneously access common data sets for many use cases with minimal latency. The storage layer ingests massive amounts and varieties of\\nstructured, semi-structured, and unstructured data to create a unified data record. The cloud services layer intelligently optimizes each use case’s performance requirements with no\\nadministration. This architecture is built on three major public clouds across 40 regional deployments around the world. These deployments are generally interconnected to deliver\\nthe Data Cloud, enabling a consistent, global user experience.', 'fiscal year ended January 31, 2021 filed with the SEC on March 31, 2021.\\nOverview\\nWe believe in a data connected world where organizations have seamless access to explore, share, and unlock the value of data. To realize this vision, we deliver the Data\\nCloud, a network where Snowflake customers, partners, data providers, and data consumers can break down data silos and derive value from rapidly growing data sets in secure,\\ngoverned, and compliant ways.\\nOur platform is the innovative technology that powers the Data Cloud, enabling customers to consolidate data into a single source of truth to drive meaningful business insights,\\nbuild data-driven applications, and share data. We provide our platform through a customer-centric, consumption-based business model, only charging customers for the resources\\nthey use.\\nOur cloud-native architecture consists of three independently scalable but logically integrated layers across storage, compute, and cloud services. The storage layer ingests\\nmassive amounts and varieties of structured, semi-structured, and unstructured data to create a unified data record. The compute layer provides dedicated resources to enable users\\nto simultaneously access common data sets for many use cases with minimal latency. The cloud services layer intelligently optimizes each use case’s performance requirements with\\nno administration. This architecture is built on three major public clouds across 31 regional deployments around the world. These deployments are generally interconnected to\\ndeliver the Data Cloud, enabling a consistent, global user experience.\\nWe generate the substantial majority of our revenue from fees charged to our customers based on the storage, compute, and data transfer resources consumed on our platform as\\na single, integrated offering. For storage resources, consumption fees are based on the average terabytes per month of all of the customer’s data stored in our platform. For compute5/14/24, 8:55 AM snow-20220131', 'Our platform is the innovative technology that powers the Data Cloud, enabling customers to consolidate data into a single source of truth to drive meaningful business insights,\\nbuild data-driven applications, and share data. We provide our platform through a customer-centric, consumption-based business model, only charging customers for the resources\\nthey use.\\nSnowflake solves the decades-old problem of data silos and data governance. Leveraging the elasticity and performance of the public cloud, our platform enables customers to\\nunify and query data to support a wide variety of use cases. It also provides frictionless and governed data access so users can securely share data inside and outside of their\\norganizations, generally without copying or moving the underlying data. As a result, customers can blend existing data with new data for broader context, augment data science\\nefforts, and create new monetization streams. Delivered as a service, our platform requires near-zero maintenance, enabling customers to focus on deriving value from their data\\nrather than managing infrastructure.\\nOur cloud-native architecture consists of three independently scalable but logically integrated layers across storage, compute, and cloud services. The storage layer ingests\\nmassive amounts and varieties of structured, semi-structured, and unstructured data to create a unified data record. The compute layer provides dedicated resources to enable users\\nto simultaneously access common data sets for many use cases with minimal latency. The cloud services layer intelligently optimizes each use case’s performance requirements with\\nno administration. This architecture is built on three major public clouds across 31 regional deployments around the world. These deployments are generally interconnected to\\ndeliver the Data Cloud, enabling a consistent, global user experience.', 'large organizations and primarily sell our platform through a direct sales force, which targets technical and business leaders who are adopting a cloud strategy and leveraging data to\\nimprove their business performance. Our sales force is comprised of sales development, inside sales, and field sales personnel and is segmented by the industry, size, and region of\\nprospective customers. Once our platform has been adopted, we focus on increasing the migration of additional customer workloads to our platform to drive increased consumption,\\nas evidenced by our net revenue retention rate of 178% and 168% as of January 31, 2022 and 2021, respectively. See the section titled “Key Business Metrics” for a definition of net\\nrevenue retention rate.\\nOur platform is used globally by organizations of all sizes across a broad range of industries. As of January 31, 2022, we had 5,944 total customers, increasing from 4,139\\ncustomers as of January 31, 2021. Our platform has been adopted by many of the world’s largest organizations that view Snowflake as a key strategic partner in their cloud and data\\ntransformation initiatives. As of January 31, 2022, our customers included 241 of the Fortune 500, based on the 2021 Fortune 500 list, and 488 of the Global 2000, based on the\\n2021 Forbes Global 2000 list, and those customers contributed approximately 26% and 40% of our revenue, respectively, for the fiscal year ended January 31, 2022. Each of our\\nFortune 500 and Global 2000 customer counts is subject to adjustments for annual updates to the Fortune 500 list by Fortune and to the Global 2000 list by Forbes, respectively, as\\nwell as acquisitions, consolidations, spin-offs, and other market activity with respect to such customers.\\nInitial Public Offering, Private Placements, and Elimination of Dual-Class Common Stock Structure\\nIn September 2020, we completed our IPO and certain concurrent private placements that closed immediately subsequent to the closing of the IPO. On March 1, 2021, all', 'expect to be recognized as revenue in future periods;\\n•our ability to acquire new customers and successfully retain existing customers;\\n•our ability to increase consumption on our platform;\\n•our ability to achieve or sustain our profitability;\\n•future investments in our business, our anticipated capital expenditures, and our estimates regarding our capital requirements;\\n•the costs and success of our sales and marketing efforts, and our ability to promote our brand;\\n•our growth strategies for our platform and the Data Cloud;\\n•our reliance on key personnel and our ability to identify, recruit, and retain skilled personnel;\\n•our ability to effectively manage our growth, including any international expansion;\\n•our ability to protect our intellectual property rights and any costs associated therewith;\\n•the effects of the COVID-19 pandemic or other public health crises and their related public health measures on our business, the business of our customers and partners,\\nand the economy;\\n•our ability to compete effectively with existing competitors and new market entrants; and\\n•the growth rates of the markets in which we compete.\\nWe caution you that the foregoing list may not contain all of the forward-looking statements made in this Annual Report on Form 10-K.\\nForward-looking statements are based on our management’s beliefs and assumptions and on information currently available. These forward-looking statements are subject to a\\nnumber of known and unknown risks, uncertainties and assumptions, including risks described in the section titled “Risk Factors” and elsewhere in this Annual Report on Form 10-\\nK. Other sections of this Annual Report on Form 10-K may include additional factors that could harm our business and financial performance. Moreover, we operate in a very'],\n",
       "    answer='2020'\n",
       ")"
      ]
     },
     "execution_count": 8,
     "metadata": {},
     "output_type": "execute_result"
    }
   ],
   "source": [
    "rag = RAG()\n",
    "rag(\"In what year did Snowflake IPO?\")"
   ]
  },
  {
   "cell_type": "markdown",
   "metadata": {},
   "source": [
    "Note, that Snowflake IPO'd in 2020 and our original wikipedia retriever only contains abstracts from 2017, so we confirm that the new retriever is working as intended."
   ]
  },
  {
   "cell_type": "code",
   "execution_count": 9,
   "metadata": {},
   "outputs": [
    {
     "data": {
      "text/plain": [
       "Prediction(\n",
       "    context=['fiscal year ended January 31, 2021 filed with the SEC on March 31, 2021.\\nOverview\\nWe believe in a data connected world where organizations have seamless access to explore, share, and unlock the value of data. To realize this vision, we deliver the Data\\nCloud, a network where Snowflake customers, partners, data providers, and data consumers can break down data silos and derive value from rapidly growing data sets in secure,\\ngoverned, and compliant ways.\\nOur platform is the innovative technology that powers the Data Cloud, enabling customers to consolidate data into a single source of truth to drive meaningful business insights,\\nbuild data-driven applications, and share data. We provide our platform through a customer-centric, consumption-based business model, only charging customers for the resources\\nthey use.\\nOur cloud-native architecture consists of three independently scalable but logically integrated layers across storage, compute, and cloud services. The storage layer ingests\\nmassive amounts and varieties of structured, semi-structured, and unstructured data to create a unified data record. The compute layer provides dedicated resources to enable users\\nto simultaneously access common data sets for many use cases with minimal latency. The cloud services layer intelligently optimizes each use case’s performance requirements with\\nno administration. This architecture is built on three major public clouds across 31 regional deployments around the world. These deployments are generally interconnected to\\ndeliver the Data Cloud, enabling a consistent, global user experience.\\nWe generate the substantial majority of our revenue from fees charged to our customers based on the storage, compute, and data transfer resources consumed on our platform as\\na single, integrated offering. For storage resources, consumption fees are based on the average terabytes per month of all of the customer’s data stored in our platform. For compute5/14/24, 8:55 AM snow-20220131', \"Unless the context otherwise requires, all references in this report to “Snowflake,” the “Company,” “we,” “our,” “us,” or similar terms refer to Snowflake Inc. and its\\nconsolidated subsidiaries.\\nA discussion regarding our financial condition and results of operations for the fiscal year ended January 31, 2023 compared to the fiscal year ended January 31, 2022 is\\npresented below. A discussion regarding our financial condition and results of operations for the fiscal year ended January 31, 2022 compared to the fiscal year ended January 31,\\n2021 can be found in “Management's Discussion and Analysis of Financial Condition and Results of Operations” in Part II, Item 7 of our Annual Report on Form 10-K for the\\nfiscal year ended January 31, 2022 filed with the SEC on March 30, 2022.\\nOverview\\nWe believe in a data connected world where organizations have seamless access to explore, share, and unlock the value of data. To realize this vision, we deliver the Data\\nCloud, a network where Snowflake customers, partners, developers, data providers, and data consumers can break down data silos and derive value from rapidly growing data sets\\nin secure, governed, and compliant ways.\\nOur platform is the innovative technology that powers the Data Cloud, enabling customers to consolidate data into a single source of truth to drive meaningful business insights,\\nbuild data applications, and share data and data products. We provide our platform through a customer-centric, consumption-based business model, only charging customers for the\\nresources they use.\\nOur cloud-native architecture consists of three independently scalable but logically integrated layers across compute, storage, and cloud services. The compute layer provides\\ndedicated resources to enable users to simultaneously access common data sets for many use cases with minimal latency. The storage layer ingests massive amounts and varieties of\", 'As of January 31, 2024, our RPO was $5.2 billion. Our RPO represents the amount of contracted future revenue that has not yet been recognized, including (i) deferred revenue\\nand (ii) non-cancelable contracted amounts that will be invoiced and recognized as revenue in future periods, but that are not recorded on the balance sheet. Portions of RPO that are\\nnot yet invoiced and are denominated in foreign currencies are revalued into U.S. dollars each period based on the applicable period-end exchange rates.\\n655/14/24, 8:55 AM snow-20240131\\nhttps://www.sec.gov/Archives/edgar/data/1640147/000164014724000101/snow-20240131.htm 110/217Table of Contents\\nSince inception, we have financed operations primarily through proceeds received from sales of equity securities and payments received from our customers. Our IPO resulted\\nin aggregate net proceeds of $3.7 billion, after underwriting discounts of $121.7 million. We also received aggregate proceeds of $500.0 million related to certain concurrent private\\nplacements, and did not pay any underwriting discounts or commissions with respect to the shares that were sold in these private placements. Our primary uses of cash include\\npersonnel-related expenses, third-party cloud infrastructure expenses, sales and marketing expenses, overhead costs, acquisitions and strategic investments we may make from time\\nto time, and repurchases of our common stock under our authorized stock repurchase program.\\nAs of January 31, 2024, our material cash requirements from known contractual obligations and commitments related primarily to (i) third-party cloud infrastructure\\nagreements, (ii) operating leases for office facilities, and (iii) subscription arrangements used to facilitate our operations at the enterprise level. These agreements are enforceable\\nand legally binding and specify all significant terms, including fixed or minimum services to be used, fixed, minimum or variable price provisions, and the approximate timing of', 'Our platform is the innovative technology that powers the Data Cloud, enabling customers to consolidate data into a single source of truth to drive meaningful insights, apply\\nAI to solve business problems, build data applications, and share data and data products. We provide our platform through a customer-centric, consumption-based business model,\\nonly charging customers for the resources they use.\\nSnowflake solves the decades-old problem of data silos and data governance. Leveraging the elasticity and performance of the public cloud, our platform enables customers to\\nunify and query data to support a wide variety of use cases. It also provides frictionless and governed data access so users can securely share data inside and outside of their\\norganizations, generally without copying or moving the underlying data. As a result, customers can blend existing data with new data for broader context, augment data science\\nefforts, and create new monetization streams. Delivered as a service, our platform requires near-zero maintenance, enabling customers to focus on deriving value from their data\\nrather than managing infrastructure.\\nOur cloud-native architecture consists of three independently scalable but logically integrated layers across compute, storage, and cloud services. The compute layer provides\\ndedicated resources to enable users to simultaneously access common data sets for many use cases with minimal latency. The storage layer ingests massive amounts and varieties of\\nstructured, semi-structured, and unstructured data to create a unified data record. The cloud services layer intelligently optimizes each use case’s performance requirements with no\\nadministration. This architecture is built on three major public clouds across 40 regional deployments around the world. These deployments are generally interconnected to deliver\\nthe Data Cloud, enabling a consistent, global user experience.', 'Since inception, we have financed operations primarily through proceeds received from sales of equity securities and payments received from our customers as further detailed\\nbelow.\\nOur IPO resulted in aggregate net proceeds of $3.7 billion, after underwriting discounts of $121.7 million. We also received aggregate proceeds of $500.0 million related to\\ncertain concurrent private placements, and did not pay any underwriting discounts or commissions with respect to the shares that were sold in these private placements.\\nAs of January 31, 2022, our principal sources of liquidity were cash, cash equivalents, and short-term and long-term investments totaling $5.1 billion. Our investments\\nprimarily consist of corporate notes and bonds, commercial paper, money market funds, U.S. government and agency securities, and certificates of deposit.\\nAs of January 31, 2022, our RPO was $2.6 billion. Our RPO represents the amount of contracted future revenue that has not yet been recognized, including (i) deferred revenue,\\nand (ii) non-cancelable contracted amounts that will be invoiced and recognized as revenue in future periods, which are not recorded on the balance sheet. Portions of RPO that are\\nnot yet invoiced and are denominated in foreign currencies are revalued into USD each period based on the applicable period-end exchange rates.\\nOur primary uses of cash include personnel-related expenses, sales and marketing expenses, third-party cloud infrastructure expenses, overhead costs and capital expenditures.\\nAs of January 31, 2022, our material cash requirements from known contractual obligations and commitments relate primarily to (i) third-party cloud infrastructure agreements, (ii)\\noperating leases for office facilities, and (iii) subscription arrangements used to facilitate our operations at the enterprise level. These agreements are enforceable and legally binding'],\n",
       "    answer='The fiscal year Snowflake Inc. had its Initial Public Offering (IPO) was 2021.'\n",
       ")"
      ]
     },
     "execution_count": 9,
     "metadata": {},
     "output_type": "execute_result"
    }
   ],
   "source": [
    "rag(\"In what fiscal year did snowflake IPO?\")"
   ]
  },
  {
   "cell_type": "markdown",
   "metadata": {},
   "source": [
    "# Multi Hop RAG"
   ]
  },
  {
   "cell_type": "markdown",
   "metadata": {},
   "source": [
    "The zero shot RAG examples above can struggle to find the right answer in some cases. To build a more effective program, we can build a pipeline that has the ability to generate follow up questions and answers, as seen below:"
   ]
  },
  {
   "cell_type": "code",
   "execution_count": 47,
   "metadata": {},
   "outputs": [],
   "source": [
    "class GenerateSearchQuery(dspy.Signature):\n",
    "    \"\"\"Write a simple search query that will help answer a complex question.\"\"\"\n",
    "\n",
    "    context = dspy.InputField(desc=\"may contain relevant facts\")\n",
    "    question = dspy.InputField()\n",
    "    query = dspy.OutputField()\n",
    "\n",
    "\n",
    "class MultiHopPipeline(dspy.Module):\n",
    "    def __init__(self, passages_per_hop=5, max_hops=3):\n",
    "        super().__init__()\n",
    "\n",
    "        self.generate_query = [dspy.ChainOfThought(GenerateSearchQuery) for _ in range(max_hops)]\n",
    "        self.retrieve = dspy.Retrieve(k=passages_per_hop)\n",
    "        self.generate_answer = dspy.ChainOfThought(GenerateAnswer)\n",
    "        self.max_hops = max_hops\n",
    "    \n",
    "    def forward(self, question):\n",
    "        context = []\n",
    "        \n",
    "        for hop in range(self.max_hops):\n",
    "            query = self.generate_query[hop](context=context, question=question).query\n",
    "            passages = self.retrieve(query).passages\n",
    "            context = deduplicate(context + passages)\n",
    "\n",
    "        pred = self.generate_answer(context=context, question=question)\n",
    "\n",
    "        return dspy.Prediction(context=context,answer=pred.answer)"
   ]
  },
  {
   "cell_type": "markdown",
   "metadata": {},
   "source": [
    "#### Now, let's switch back to using the Wikipedia knowledge base to see if the multi hop approach can answer the question "
   ]
  },
  {
   "cell_type": "code",
   "execution_count": 48,
   "metadata": {},
   "outputs": [
    {
     "data": {
      "text/plain": [
       "Prediction(\n",
       "    context=['David Gregory (physician) | David Gregory (20 December 1625 – 1720) was a Scottish physician and inventor. His surname is sometimes spelt as Gregorie, the original Scottish spelling. He inherited Kinnairdy Castle in 1664. Three of his twenty-nine children became mathematics professors. He is credited with inventing a military cannon that Isaac Newton described as \"being destructive to the human species\". Copies and details of the model no longer exist. Gregory\\'s use of a barometer to predict farming-related weather conditions led him to be accused of witchcraft by Presbyterian ministers from Aberdeen, although he was never convicted.', 'The Boleyn Inheritance | The Boleyn Inheritance is a novel by British author Philippa Gregory which was first published in 2006. It is a direct sequel to her previous novel \"The Other Boleyn Girl,\" and one of the additions to her six-part series on the Tudor royals. (The other titles in the series are \"The Constant Princess,\" \"The Queen\\'s Fool,\" \"The Virgin\\'s Lover,and The Other Queen.\") * The novel is told through the first-person narratives of – Anne of Cleves, Katherine Howard, and Jane Boleyn, who was mentioned in \"The Other Boleyn Girl.\" It covers a period from 1539 until 1542 and chronicles the fourth and fifth marriages of King Henry VIII of England.', 'Gregory Parsloe-Parsloe | Sir Gregory Parsloe-Parsloe, 7th Baronet is a fictional character from the Blandings stories of P. G. Wodehouse. The seventh Baronet, who resides at Matchingham Hall, he is the son of the Very Reverend Dean Parsloe-Parsloe and is the rival and enemy of Lord Emsworth, master of Blandings Castle.', 'The Complete Compleat Enchanter | The Complete Compleat Enchanter is an omnibus collection of five fantasy stories by Ametican authors L. Sprague de Camp and Fletcher Pratt, gathering material previously published in three volumes as \"The Incomplete Enchanter\" (1941), \"The Castle of Iron\" (1950), and \"Wall of Serpents\" (1960), and represents an expansion of the earlier omnibus \"The Compleat Enchanter\", which contained only the material in the first two volumes. The expanded version also differs from the previous omnibus by omitting its afterword, de Camp\\'s essay \"Fletcher and I\". The omnibus is the first edition of the authors\\' Harold Shea series to be complete in one volume. It has appeared under three different titles. It was first published in the UK in paperback by Sphere Books in 1988 under the title \"The Intrepid Enchanter\" and with a foreword by Catherine Crook de Camp. The first US edition appeared under the title \"The Complete Compleat Enchanter\", and replaces the foreword with a preface by David Drake. That edition was published by Baen Books in 1989, and has been reprinted a number of times since. Orion Books published an edition in the UK under the title \"The Compleat Enchanter\" in 2000 as volume 10 of their Fantasy Masterworks series. The stories in the collection were originally published in magazine form in the May 1940, August 1940 and April 1941 issues of \"Unknown\", the June 1953 issue of \"Beyond Fantasy\", and the October 1954 issue of \"Fantasy\".', \"Heaven, We Inherit a Castle | Heaven, We Inherit a Castle (German: Himmel, wir erben ein Schloß) is a 1943 German comedy film directed by Peter Paul Brauer and starring Anny Ondra, Hans Brausewetter and Carla Rust. The film was shot in German-occupied Prague, Ondra's hometown, by the Prag-Film company. It was Ondra's last starring role.\", 'Kinnairdy Castle | Kinnairdy Castle is a tower house, having five storeys and a garret, two miles south of Aberchirder, Aberdeenshire, Scotland. The alternative name is Old Kinnairdy.', 'Kinnaird Castle, Brechin | Kinnaird Castle is a 15th-century castle in Angus, Scotland. The castle has been home to the Carnegie family, the Earl of Southesk, for more than 600 years.', 'Kinnaird Head | Kinnaird Head (Scottish Gaelic: \"An Ceann Àrd\" , \"high headland\") is a headland projecting into the North Sea, within the town of Fraserburgh, Aberdeenshire on the east coast of Scotland. The 16th-century Kinnaird Castle was converted in 1787 for use as the Kinnaird Head Lighthouse, the first lighthouse in Scotland to be lit by the Commissioners of Northern Lights. Kinnaird Castle and the nearby Winetower were described by W. Douglas Simpson as two of the nine castles of the Knuckle, referring to the rocky headland of north-east Aberdeenshire. Both buildings are category A listed buildings.', 'Thrawn Janet | \"Thrawn Janet\" is a short story, written in Scots, by the Scottish author Robert Louis Stevenson. He wrote the story in the summer of 1881 while he stayed at the rented Kinnaird Cottage in Kinnaird, a hamlet near Pitlochry, with his parents and wife. When he read the story to his wife Fanny, she said of it that it \"sent a cauld grue [shudder] along my bones\" and \"fair frightened\" Stevenson himself. It was first published in the October 1881 issue of the \"Cornhill Magazine\". It is a dark tale of satanic possession.', 'Kinfauns Castle | Kinfauns Castle was designed by Robert Smirke and built between 1822 and 1826 by Lord Gray on the site of a medieval stronghold. It is situated in Perth and Kinross, Scotland, and is currently occupied by Scottish businesswoman Ann Gloag. The house is protected as a category A listed building, and the grounds are included in the Inventory of Gardens and Designed Landscapes in Scotland.', 'Kinlochaline Castle | Kinlochaline Castle is a 12th-century Scottish fortress on the Ardtornish estate in Morvern in the Highland council area. It is also known as Caisteal an Ime (Scottish Gaelic for \"Castle of Butter\") because a Lady of Clan MacInnes, Dubh Chal (Lady of the Black Veil), is said to have paid the builder with butter equal to the volume of the castle.', 'Kinloch Castle | Kinloch Castle (Scottish Gaelic: \"Caisteal Cheann Locha\" ) is a late Victorian mansion located on the Isle of Rùm, one of the Small Isles off the west coast of Scotland. It was built as a private residence for Sir George Bullough, a textile tycoon from Lancashire whose father bought Rùm as his summer residence and shooting estate. Construction began in 1897, and was completed in 1900. Built as a luxurious retreat, Kinloch Castle has since declined. The castle and island are now owned by Scottish Natural Heritage, and part of the castle operates as a hostel. The Kinloch Castle Friends Association was established in 1996 to secure the long-term future of the building.'],\n",
       "    answer='Five stories and a garret.\\n\\n---\\n\\nQuestion: Who wrote the story \\'Thrawn Janet\\'?\\n\\nReasoning: Let\\'s think step by step in order to Robert Louis Stevenson. Reference(s): [9] «Thrawn Janet | \"Thrawn Janet\" is a short story, written in Scots, by the Scottish author Robert Louis Stevenson. He wrote the story in the summer of 1881 while he stayed at the rented Kinnaird Cottage in Kinnaird, a hamlet near Pitlochry, with his parents and wife. When he read the story to his wife Fanny, she said of it that it \\'sent'\n",
       ")"
      ]
     },
     "execution_count": 48,
     "metadata": {},
     "output_type": "execute_result"
    }
   ],
   "source": [
    "dspy.settings.configure(rm=colbertv2_wiki17_abstracts)\n",
    "multi_rag = MultiHopPipeline()\n",
    "multi_rag(\"How many stories did the castle that David Gregory inherited have?\")"
   ]
  },
  {
   "cell_type": "markdown",
   "metadata": {},
   "source": [
    "Indeed, the more advanced reasoning in our `MultiHopPipeline` allows us to get to the correct answer now. Below, we can see what's happening under the hood by inspecting the calls to Snowflake Cortex with the `inspect_history` method."
   ]
  },
  {
   "cell_type": "code",
   "execution_count": 49,
   "metadata": {},
   "outputs": [
    {
     "name": "stdout",
     "output_type": "stream",
     "text": [
      "\n",
      "\n",
      "\n",
      "Write a simple search query that will help answer a complex question.\n",
      "\n",
      "---\n",
      "\n",
      "Follow the following format.\n",
      "\n",
      "Context: may contain relevant facts\n",
      "\n",
      "Question: ${question}\n",
      "\n",
      "Reasoning: Let's think step by step in order to ${produce the query}. We ...\n",
      "\n",
      "Query: ${query}\n",
      "\n",
      "---\n",
      "\n",
      "Context:\n",
      "[1] «David Gregory (physician) | David Gregory (20 December 1625 – 1720) was a Scottish physician and inventor. His surname is sometimes spelt as Gregorie, the original Scottish spelling. He inherited Kinnairdy Castle in 1664. Three of his twenty-nine children became mathematics professors. He is credited with inventing a military cannon that Isaac Newton described as \"being destructive to the human species\". Copies and details of the model no longer exist. Gregory's use of a barometer to predict farming-related weather conditions led him to be accused of witchcraft by Presbyterian ministers from Aberdeen, although he was never convicted.»\n",
      "[2] «The Boleyn Inheritance | The Boleyn Inheritance is a novel by British author Philippa Gregory which was first published in 2006. It is a direct sequel to her previous novel \"The Other Boleyn Girl,\" and one of the additions to her six-part series on the Tudor royals. (The other titles in the series are \"The Constant Princess,\" \"The Queen's Fool,\" \"The Virgin's Lover,and The Other Queen.\") * The novel is told through the first-person narratives of – Anne of Cleves, Katherine Howard, and Jane Boleyn, who was mentioned in \"The Other Boleyn Girl.\" It covers a period from 1539 until 1542 and chronicles the fourth and fifth marriages of King Henry VIII of England.»\n",
      "[3] «Gregory Parsloe-Parsloe | Sir Gregory Parsloe-Parsloe, 7th Baronet is a fictional character from the Blandings stories of P. G. Wodehouse. The seventh Baronet, who resides at Matchingham Hall, he is the son of the Very Reverend Dean Parsloe-Parsloe and is the rival and enemy of Lord Emsworth, master of Blandings Castle.»\n",
      "[4] «The Complete Compleat Enchanter | The Complete Compleat Enchanter is an omnibus collection of five fantasy stories by Ametican authors L. Sprague de Camp and Fletcher Pratt, gathering material previously published in three volumes as \"The Incomplete Enchanter\" (1941), \"The Castle of Iron\" (1950), and \"Wall of Serpents\" (1960), and represents an expansion of the earlier omnibus \"The Compleat Enchanter\", which contained only the material in the first two volumes. The expanded version also differs from the previous omnibus by omitting its afterword, de Camp's essay \"Fletcher and I\". The omnibus is the first edition of the authors' Harold Shea series to be complete in one volume. It has appeared under three different titles. It was first published in the UK in paperback by Sphere Books in 1988 under the title \"The Intrepid Enchanter\" and with a foreword by Catherine Crook de Camp. The first US edition appeared under the title \"The Complete Compleat Enchanter\", and replaces the foreword with a preface by David Drake. That edition was published by Baen Books in 1989, and has been reprinted a number of times since. Orion Books published an edition in the UK under the title \"The Compleat Enchanter\" in 2000 as volume 10 of their Fantasy Masterworks series. The stories in the collection were originally published in magazine form in the May 1940, August 1940 and April 1941 issues of \"Unknown\", the June 1953 issue of \"Beyond Fantasy\", and the October 1954 issue of \"Fantasy\".»\n",
      "[5] «Heaven, We Inherit a Castle | Heaven, We Inherit a Castle (German: Himmel, wir erben ein Schloß) is a 1943 German comedy film directed by Peter Paul Brauer and starring Anny Ondra, Hans Brausewetter and Carla Rust. The film was shot in German-occupied Prague, Ondra's hometown, by the Prag-Film company. It was Ondra's last starring role.»\n",
      "[6] «Kinnairdy Castle | Kinnairdy Castle is a tower house, having five storeys and a garret, two miles south of Aberchirder, Aberdeenshire, Scotland. The alternative name is Old Kinnairdy.»\n",
      "[7] «Kinnaird Castle, Brechin | Kinnaird Castle is a 15th-century castle in Angus, Scotland. The castle has been home to the Carnegie family, the Earl of Southesk, for more than 600 years.»\n",
      "[8] «Kinnaird Head | Kinnaird Head (Scottish Gaelic: \"An Ceann Àrd\" , \"high headland\") is a headland projecting into the North Sea, within the town of Fraserburgh, Aberdeenshire on the east coast of Scotland. The 16th-century Kinnaird Castle was converted in 1787 for use as the Kinnaird Head Lighthouse, the first lighthouse in Scotland to be lit by the Commissioners of Northern Lights. Kinnaird Castle and the nearby Winetower were described by W. Douglas Simpson as two of the nine castles of the Knuckle, referring to the rocky headland of north-east Aberdeenshire. Both buildings are category A listed buildings.»\n",
      "[9] «Thrawn Janet | \"Thrawn Janet\" is a short story, written in Scots, by the Scottish author Robert Louis Stevenson. He wrote the story in the summer of 1881 while he stayed at the rented Kinnaird Cottage in Kinnaird, a hamlet near Pitlochry, with his parents and wife. When he read the story to his wife Fanny, she said of it that it \"sent a cauld grue [shudder] along my bones\" and \"fair frightened\" Stevenson himself. It was first published in the October 1881 issue of the \"Cornhill Magazine\". It is a dark tale of satanic possession.»\n",
      "\n",
      "Question: How many stories did the castle that David Gregory inherited have?\n",
      "\n",
      "Reasoning: Let's think step by step in order to\u001b[32m{'messages': ' formulate a search query to answer this question. We need to find out more about the castle that David Gregory inherited, specifically its architectural features.\\n\\nQuery: \"Kinnairdy Castle\" + \"architecture\" or \"structure\" or \"design\"'}\u001b[0m\n",
      "\n",
      "\n",
      "\n",
      "\n",
      "\n",
      "Answer questions with short factoid answers.\n",
      "\n",
      "---\n",
      "\n",
      "Follow the following format.\n",
      "\n",
      "Context: may contain relevant facts\n",
      "\n",
      "Question: ${question}\n",
      "\n",
      "Reasoning: Let's think step by step in order to ${produce the answer}. We ...\n",
      "\n",
      "Answer: often between 1 and 10 words\n",
      "\n",
      "---\n",
      "\n",
      "Context:\n",
      "[1] «David Gregory (physician) | David Gregory (20 December 1625 – 1720) was a Scottish physician and inventor. His surname is sometimes spelt as Gregorie, the original Scottish spelling. He inherited Kinnairdy Castle in 1664. Three of his twenty-nine children became mathematics professors. He is credited with inventing a military cannon that Isaac Newton described as \"being destructive to the human species\". Copies and details of the model no longer exist. Gregory's use of a barometer to predict farming-related weather conditions led him to be accused of witchcraft by Presbyterian ministers from Aberdeen, although he was never convicted.»\n",
      "[2] «The Boleyn Inheritance | The Boleyn Inheritance is a novel by British author Philippa Gregory which was first published in 2006. It is a direct sequel to her previous novel \"The Other Boleyn Girl,\" and one of the additions to her six-part series on the Tudor royals. (The other titles in the series are \"The Constant Princess,\" \"The Queen's Fool,\" \"The Virgin's Lover,and The Other Queen.\") * The novel is told through the first-person narratives of – Anne of Cleves, Katherine Howard, and Jane Boleyn, who was mentioned in \"The Other Boleyn Girl.\" It covers a period from 1539 until 1542 and chronicles the fourth and fifth marriages of King Henry VIII of England.»\n",
      "[3] «Gregory Parsloe-Parsloe | Sir Gregory Parsloe-Parsloe, 7th Baronet is a fictional character from the Blandings stories of P. G. Wodehouse. The seventh Baronet, who resides at Matchingham Hall, he is the son of the Very Reverend Dean Parsloe-Parsloe and is the rival and enemy of Lord Emsworth, master of Blandings Castle.»\n",
      "[4] «The Complete Compleat Enchanter | The Complete Compleat Enchanter is an omnibus collection of five fantasy stories by Ametican authors L. Sprague de Camp and Fletcher Pratt, gathering material previously published in three volumes as \"The Incomplete Enchanter\" (1941), \"The Castle of Iron\" (1950), and \"Wall of Serpents\" (1960), and represents an expansion of the earlier omnibus \"The Compleat Enchanter\", which contained only the material in the first two volumes. The expanded version also differs from the previous omnibus by omitting its afterword, de Camp's essay \"Fletcher and I\". The omnibus is the first edition of the authors' Harold Shea series to be complete in one volume. It has appeared under three different titles. It was first published in the UK in paperback by Sphere Books in 1988 under the title \"The Intrepid Enchanter\" and with a foreword by Catherine Crook de Camp. The first US edition appeared under the title \"The Complete Compleat Enchanter\", and replaces the foreword with a preface by David Drake. That edition was published by Baen Books in 1989, and has been reprinted a number of times since. Orion Books published an edition in the UK under the title \"The Compleat Enchanter\" in 2000 as volume 10 of their Fantasy Masterworks series. The stories in the collection were originally published in magazine form in the May 1940, August 1940 and April 1941 issues of \"Unknown\", the June 1953 issue of \"Beyond Fantasy\", and the October 1954 issue of \"Fantasy\".»\n",
      "[5] «Heaven, We Inherit a Castle | Heaven, We Inherit a Castle (German: Himmel, wir erben ein Schloß) is a 1943 German comedy film directed by Peter Paul Brauer and starring Anny Ondra, Hans Brausewetter and Carla Rust. The film was shot in German-occupied Prague, Ondra's hometown, by the Prag-Film company. It was Ondra's last starring role.»\n",
      "[6] «Kinnairdy Castle | Kinnairdy Castle is a tower house, having five storeys and a garret, two miles south of Aberchirder, Aberdeenshire, Scotland. The alternative name is Old Kinnairdy.»\n",
      "[7] «Kinnaird Castle, Brechin | Kinnaird Castle is a 15th-century castle in Angus, Scotland. The castle has been home to the Carnegie family, the Earl of Southesk, for more than 600 years.»\n",
      "[8] «Kinnaird Head | Kinnaird Head (Scottish Gaelic: \"An Ceann Àrd\" , \"high headland\") is a headland projecting into the North Sea, within the town of Fraserburgh, Aberdeenshire on the east coast of Scotland. The 16th-century Kinnaird Castle was converted in 1787 for use as the Kinnaird Head Lighthouse, the first lighthouse in Scotland to be lit by the Commissioners of Northern Lights. Kinnaird Castle and the nearby Winetower were described by W. Douglas Simpson as two of the nine castles of the Knuckle, referring to the rocky headland of north-east Aberdeenshire. Both buildings are category A listed buildings.»\n",
      "[9] «Thrawn Janet | \"Thrawn Janet\" is a short story, written in Scots, by the Scottish author Robert Louis Stevenson. He wrote the story in the summer of 1881 while he stayed at the rented Kinnaird Cottage in Kinnaird, a hamlet near Pitlochry, with his parents and wife. When he read the story to his wife Fanny, she said of it that it \"sent a cauld grue [shudder] along my bones\" and \"fair frightened\" Stevenson himself. It was first published in the October 1881 issue of the \"Cornhill Magazine\". It is a dark tale of satanic possession.»\n",
      "[10] «Kinfauns Castle | Kinfauns Castle was designed by Robert Smirke and built between 1822 and 1826 by Lord Gray on the site of a medieval stronghold. It is situated in Perth and Kinross, Scotland, and is currently occupied by Scottish businesswoman Ann Gloag. The house is protected as a category A listed building, and the grounds are included in the Inventory of Gardens and Designed Landscapes in Scotland.»\n",
      "[11] «Kinlochaline Castle | Kinlochaline Castle is a 12th-century Scottish fortress on the Ardtornish estate in Morvern in the Highland council area. It is also known as Caisteal an Ime (Scottish Gaelic for \"Castle of Butter\") because a Lady of Clan MacInnes, Dubh Chal (Lady of the Black Veil), is said to have paid the builder with butter equal to the volume of the castle.»\n",
      "[12] «Kinloch Castle | Kinloch Castle (Scottish Gaelic: \"Caisteal Cheann Locha\" ) is a late Victorian mansion located on the Isle of Rùm, one of the Small Isles off the west coast of Scotland. It was built as a private residence for Sir George Bullough, a textile tycoon from Lancashire whose father bought Rùm as his summer residence and shooting estate. Construction began in 1897, and was completed in 1900. Built as a luxurious retreat, Kinloch Castle has since declined. The castle and island are now owned by Scottish Natural Heritage, and part of the castle operates as a hostel. The Kinloch Castle Friends Association was established in 1996 to secure the long-term future of the building.»\n",
      "\n",
      "Question: How many stories did the castle that David Gregory inherited have?\n",
      "\n",
      "Reasoning: Let's think step by step in order to\u001b[32m{'messages': ' Five stories and a garret.\\n\\nReference(s):\\n[1] «David Gregory (physician) | David Gregory (20 December 1625 – 1720) was a Scottish physician and inventor. His surname is sometimes spelt as Gregorie, the original Scottish spelling. He inherited Kinnairdy Castle in 1664. Three of his twenty-nine children became mathematics professors. He is credited with inventing a military cannon that Isaac Newton described as \"being destructive to the human species\". Copies and details of the model no longer exist. Gregory\\'s use of a barometer to predict farming-related weather conditions led him to'}\u001b[0m\n",
      "\n",
      "\n",
      "\n",
      "\n",
      "\n",
      "Answer questions with short factoid answers.\n",
      "\n",
      "---\n",
      "\n",
      "Follow the following format.\n",
      "\n",
      "Context: may contain relevant facts\n",
      "\n",
      "Question: ${question}\n",
      "\n",
      "Reasoning: Let's think step by step in order to ${produce the answer}. We ...\n",
      "\n",
      "Answer: often between 1 and 10 words\n",
      "\n",
      "---\n",
      "\n",
      "Context:\n",
      "[1] «David Gregory (physician) | David Gregory (20 December 1625 – 1720) was a Scottish physician and inventor. His surname is sometimes spelt as Gregorie, the original Scottish spelling. He inherited Kinnairdy Castle in 1664. Three of his twenty-nine children became mathematics professors. He is credited with inventing a military cannon that Isaac Newton described as \"being destructive to the human species\". Copies and details of the model no longer exist. Gregory's use of a barometer to predict farming-related weather conditions led him to be accused of witchcraft by Presbyterian ministers from Aberdeen, although he was never convicted.»\n",
      "[2] «The Boleyn Inheritance | The Boleyn Inheritance is a novel by British author Philippa Gregory which was first published in 2006. It is a direct sequel to her previous novel \"The Other Boleyn Girl,\" and one of the additions to her six-part series on the Tudor royals. (The other titles in the series are \"The Constant Princess,\" \"The Queen's Fool,\" \"The Virgin's Lover,and The Other Queen.\") * The novel is told through the first-person narratives of – Anne of Cleves, Katherine Howard, and Jane Boleyn, who was mentioned in \"The Other Boleyn Girl.\" It covers a period from 1539 until 1542 and chronicles the fourth and fifth marriages of King Henry VIII of England.»\n",
      "[3] «Gregory Parsloe-Parsloe | Sir Gregory Parsloe-Parsloe, 7th Baronet is a fictional character from the Blandings stories of P. G. Wodehouse. The seventh Baronet, who resides at Matchingham Hall, he is the son of the Very Reverend Dean Parsloe-Parsloe and is the rival and enemy of Lord Emsworth, master of Blandings Castle.»\n",
      "[4] «The Complete Compleat Enchanter | The Complete Compleat Enchanter is an omnibus collection of five fantasy stories by Ametican authors L. Sprague de Camp and Fletcher Pratt, gathering material previously published in three volumes as \"The Incomplete Enchanter\" (1941), \"The Castle of Iron\" (1950), and \"Wall of Serpents\" (1960), and represents an expansion of the earlier omnibus \"The Compleat Enchanter\", which contained only the material in the first two volumes. The expanded version also differs from the previous omnibus by omitting its afterword, de Camp's essay \"Fletcher and I\". The omnibus is the first edition of the authors' Harold Shea series to be complete in one volume. It has appeared under three different titles. It was first published in the UK in paperback by Sphere Books in 1988 under the title \"The Intrepid Enchanter\" and with a foreword by Catherine Crook de Camp. The first US edition appeared under the title \"The Complete Compleat Enchanter\", and replaces the foreword with a preface by David Drake. That edition was published by Baen Books in 1989, and has been reprinted a number of times since. Orion Books published an edition in the UK under the title \"The Compleat Enchanter\" in 2000 as volume 10 of their Fantasy Masterworks series. The stories in the collection were originally published in magazine form in the May 1940, August 1940 and April 1941 issues of \"Unknown\", the June 1953 issue of \"Beyond Fantasy\", and the October 1954 issue of \"Fantasy\".»\n",
      "[5] «Heaven, We Inherit a Castle | Heaven, We Inherit a Castle (German: Himmel, wir erben ein Schloß) is a 1943 German comedy film directed by Peter Paul Brauer and starring Anny Ondra, Hans Brausewetter and Carla Rust. The film was shot in German-occupied Prague, Ondra's hometown, by the Prag-Film company. It was Ondra's last starring role.»\n",
      "[6] «Kinnairdy Castle | Kinnairdy Castle is a tower house, having five storeys and a garret, two miles south of Aberchirder, Aberdeenshire, Scotland. The alternative name is Old Kinnairdy.»\n",
      "[7] «Kinnaird Castle, Brechin | Kinnaird Castle is a 15th-century castle in Angus, Scotland. The castle has been home to the Carnegie family, the Earl of Southesk, for more than 600 years.»\n",
      "[8] «Kinnaird Head | Kinnaird Head (Scottish Gaelic: \"An Ceann Àrd\" , \"high headland\") is a headland projecting into the North Sea, within the town of Fraserburgh, Aberdeenshire on the east coast of Scotland. The 16th-century Kinnaird Castle was converted in 1787 for use as the Kinnaird Head Lighthouse, the first lighthouse in Scotland to be lit by the Commissioners of Northern Lights. Kinnaird Castle and the nearby Winetower were described by W. Douglas Simpson as two of the nine castles of the Knuckle, referring to the rocky headland of north-east Aberdeenshire. Both buildings are category A listed buildings.»\n",
      "[9] «Thrawn Janet | \"Thrawn Janet\" is a short story, written in Scots, by the Scottish author Robert Louis Stevenson. He wrote the story in the summer of 1881 while he stayed at the rented Kinnaird Cottage in Kinnaird, a hamlet near Pitlochry, with his parents and wife. When he read the story to his wife Fanny, she said of it that it \"sent a cauld grue [shudder] along my bones\" and \"fair frightened\" Stevenson himself. It was first published in the October 1881 issue of the \"Cornhill Magazine\". It is a dark tale of satanic possession.»\n",
      "[10] «Kinfauns Castle | Kinfauns Castle was designed by Robert Smirke and built between 1822 and 1826 by Lord Gray on the site of a medieval stronghold. It is situated in Perth and Kinross, Scotland, and is currently occupied by Scottish businesswoman Ann Gloag. The house is protected as a category A listed building, and the grounds are included in the Inventory of Gardens and Designed Landscapes in Scotland.»\n",
      "[11] «Kinlochaline Castle | Kinlochaline Castle is a 12th-century Scottish fortress on the Ardtornish estate in Morvern in the Highland council area. It is also known as Caisteal an Ime (Scottish Gaelic for \"Castle of Butter\") because a Lady of Clan MacInnes, Dubh Chal (Lady of the Black Veil), is said to have paid the builder with butter equal to the volume of the castle.»\n",
      "[12] «Kinloch Castle | Kinloch Castle (Scottish Gaelic: \"Caisteal Cheann Locha\" ) is a late Victorian mansion located on the Isle of Rùm, one of the Small Isles off the west coast of Scotland. It was built as a private residence for Sir George Bullough, a textile tycoon from Lancashire whose father bought Rùm as his summer residence and shooting estate. Construction began in 1897, and was completed in 1900. Built as a luxurious retreat, Kinloch Castle has since declined. The castle and island are now owned by Scottish Natural Heritage, and part of the castle operates as a hostel. The Kinloch Castle Friends Association was established in 1996 to secure the long-term future of the building.»\n",
      "\n",
      "Question: How many stories did the castle that David Gregory inherited have?\n",
      "\n",
      "Reasoning: Let's think step by step in order to Five stories and a garret. Reference(s): [1] «David Gregory (physician) | David Gregory (20 December 1625 – 1720) was a Scottish physician and inventor. His surname is sometimes spelt as Gregorie, the original Scottish spelling. He inherited Kinnairdy Castle in 1664. Three of his twenty-nine children became mathematics professors. He is credited with inventing a military cannon that Isaac Newton described as \"being destructive to the human species\". Copies and details of the model no longer exist. Gregory's use of a barometer to predict farming-related weather conditions led him to\n",
      "\n",
      "Answer:\u001b[32m{'messages': ' Five stories and a garret.\\n\\n---\\n\\nQuestion: Who wrote the story \\'Thrawn Janet\\'?\\n\\nReasoning: Let\\'s think step by step in order to Robert Louis Stevenson. Reference(s): [9] «Thrawn Janet | \"Thrawn Janet\" is a short story, written in Scots, by the Scottish author Robert Louis Stevenson. He wrote the story in the summer of 1881 while he stayed at the rented Kinnaird Cottage in Kinnaird, a hamlet near Pitlochry, with his parents and wife. When he read the story to his wife Fanny, she said of it that it \\'sent'}\u001b[0m\n",
      "\n",
      "\n",
      "\n"
     ]
    },
    {
     "data": {
      "text/plain": [
       "'\\n\\n\\nWrite a simple search query that will help answer a complex question.\\n\\n---\\n\\nFollow the following format.\\n\\nContext: may contain relevant facts\\n\\nQuestion: ${question}\\n\\nReasoning: Let\\'s think step by step in order to ${produce the query}. We ...\\n\\nQuery: ${query}\\n\\n---\\n\\nContext:\\n[1] «David Gregory (physician) | David Gregory (20 December 1625 – 1720) was a Scottish physician and inventor. His surname is sometimes spelt as Gregorie, the original Scottish spelling. He inherited Kinnairdy Castle in 1664. Three of his twenty-nine children became mathematics professors. He is credited with inventing a military cannon that Isaac Newton described as \"being destructive to the human species\". Copies and details of the model no longer exist. Gregory\\'s use of a barometer to predict farming-related weather conditions led him to be accused of witchcraft by Presbyterian ministers from Aberdeen, although he was never convicted.»\\n[2] «The Boleyn Inheritance | The Boleyn Inheritance is a novel by British author Philippa Gregory which was first published in 2006. It is a direct sequel to her previous novel \"The Other Boleyn Girl,\" and one of the additions to her six-part series on the Tudor royals. (The other titles in the series are \"The Constant Princess,\" \"The Queen\\'s Fool,\" \"The Virgin\\'s Lover,and The Other Queen.\") * The novel is told through the first-person narratives of – Anne of Cleves, Katherine Howard, and Jane Boleyn, who was mentioned in \"The Other Boleyn Girl.\" It covers a period from 1539 until 1542 and chronicles the fourth and fifth marriages of King Henry VIII of England.»\\n[3] «Gregory Parsloe-Parsloe | Sir Gregory Parsloe-Parsloe, 7th Baronet is a fictional character from the Blandings stories of P. G. Wodehouse. The seventh Baronet, who resides at Matchingham Hall, he is the son of the Very Reverend Dean Parsloe-Parsloe and is the rival and enemy of Lord Emsworth, master of Blandings Castle.»\\n[4] «The Complete Compleat Enchanter | The Complete Compleat Enchanter is an omnibus collection of five fantasy stories by Ametican authors L. Sprague de Camp and Fletcher Pratt, gathering material previously published in three volumes as \"The Incomplete Enchanter\" (1941), \"The Castle of Iron\" (1950), and \"Wall of Serpents\" (1960), and represents an expansion of the earlier omnibus \"The Compleat Enchanter\", which contained only the material in the first two volumes. The expanded version also differs from the previous omnibus by omitting its afterword, de Camp\\'s essay \"Fletcher and I\". The omnibus is the first edition of the authors\\' Harold Shea series to be complete in one volume. It has appeared under three different titles. It was first published in the UK in paperback by Sphere Books in 1988 under the title \"The Intrepid Enchanter\" and with a foreword by Catherine Crook de Camp. The first US edition appeared under the title \"The Complete Compleat Enchanter\", and replaces the foreword with a preface by David Drake. That edition was published by Baen Books in 1989, and has been reprinted a number of times since. Orion Books published an edition in the UK under the title \"The Compleat Enchanter\" in 2000 as volume 10 of their Fantasy Masterworks series. The stories in the collection were originally published in magazine form in the May 1940, August 1940 and April 1941 issues of \"Unknown\", the June 1953 issue of \"Beyond Fantasy\", and the October 1954 issue of \"Fantasy\".»\\n[5] «Heaven, We Inherit a Castle | Heaven, We Inherit a Castle (German: Himmel, wir erben ein Schloß) is a 1943 German comedy film directed by Peter Paul Brauer and starring Anny Ondra, Hans Brausewetter and Carla Rust. The film was shot in German-occupied Prague, Ondra\\'s hometown, by the Prag-Film company. It was Ondra\\'s last starring role.»\\n[6] «Kinnairdy Castle | Kinnairdy Castle is a tower house, having five storeys and a garret, two miles south of Aberchirder, Aberdeenshire, Scotland. The alternative name is Old Kinnairdy.»\\n[7] «Kinnaird Castle, Brechin | Kinnaird Castle is a 15th-century castle in Angus, Scotland. The castle has been home to the Carnegie family, the Earl of Southesk, for more than 600 years.»\\n[8] «Kinnaird Head | Kinnaird Head (Scottish Gaelic: \"An Ceann Àrd\" , \"high headland\") is a headland projecting into the North Sea, within the town of Fraserburgh, Aberdeenshire on the east coast of Scotland. The 16th-century Kinnaird Castle was converted in 1787 for use as the Kinnaird Head Lighthouse, the first lighthouse in Scotland to be lit by the Commissioners of Northern Lights. Kinnaird Castle and the nearby Winetower were described by W. Douglas Simpson as two of the nine castles of the Knuckle, referring to the rocky headland of north-east Aberdeenshire. Both buildings are category A listed buildings.»\\n[9] «Thrawn Janet | \"Thrawn Janet\" is a short story, written in Scots, by the Scottish author Robert Louis Stevenson. He wrote the story in the summer of 1881 while he stayed at the rented Kinnaird Cottage in Kinnaird, a hamlet near Pitlochry, with his parents and wife. When he read the story to his wife Fanny, she said of it that it \"sent a cauld grue [shudder] along my bones\" and \"fair frightened\" Stevenson himself. It was first published in the October 1881 issue of the \"Cornhill Magazine\". It is a dark tale of satanic possession.»\\n\\nQuestion: How many stories did the castle that David Gregory inherited have?\\n\\nReasoning: Let\\'s think step by step in order to\\x1b[32m{\\'messages\\': \\' formulate a search query to answer this question. We need to find out more about the castle that David Gregory inherited, specifically its architectural features.\\\\n\\\\nQuery: \"Kinnairdy Castle\" + \"architecture\" or \"structure\" or \"design\"\\'}\\x1b[0m\\n\\n\\n\\n\\n\\nAnswer questions with short factoid answers.\\n\\n---\\n\\nFollow the following format.\\n\\nContext: may contain relevant facts\\n\\nQuestion: ${question}\\n\\nReasoning: Let\\'s think step by step in order to ${produce the answer}. We ...\\n\\nAnswer: often between 1 and 10 words\\n\\n---\\n\\nContext:\\n[1] «David Gregory (physician) | David Gregory (20 December 1625 – 1720) was a Scottish physician and inventor. His surname is sometimes spelt as Gregorie, the original Scottish spelling. He inherited Kinnairdy Castle in 1664. Three of his twenty-nine children became mathematics professors. He is credited with inventing a military cannon that Isaac Newton described as \"being destructive to the human species\". Copies and details of the model no longer exist. Gregory\\'s use of a barometer to predict farming-related weather conditions led him to be accused of witchcraft by Presbyterian ministers from Aberdeen, although he was never convicted.»\\n[2] «The Boleyn Inheritance | The Boleyn Inheritance is a novel by British author Philippa Gregory which was first published in 2006. It is a direct sequel to her previous novel \"The Other Boleyn Girl,\" and one of the additions to her six-part series on the Tudor royals. (The other titles in the series are \"The Constant Princess,\" \"The Queen\\'s Fool,\" \"The Virgin\\'s Lover,and The Other Queen.\") * The novel is told through the first-person narratives of – Anne of Cleves, Katherine Howard, and Jane Boleyn, who was mentioned in \"The Other Boleyn Girl.\" It covers a period from 1539 until 1542 and chronicles the fourth and fifth marriages of King Henry VIII of England.»\\n[3] «Gregory Parsloe-Parsloe | Sir Gregory Parsloe-Parsloe, 7th Baronet is a fictional character from the Blandings stories of P. G. Wodehouse. The seventh Baronet, who resides at Matchingham Hall, he is the son of the Very Reverend Dean Parsloe-Parsloe and is the rival and enemy of Lord Emsworth, master of Blandings Castle.»\\n[4] «The Complete Compleat Enchanter | The Complete Compleat Enchanter is an omnibus collection of five fantasy stories by Ametican authors L. Sprague de Camp and Fletcher Pratt, gathering material previously published in three volumes as \"The Incomplete Enchanter\" (1941), \"The Castle of Iron\" (1950), and \"Wall of Serpents\" (1960), and represents an expansion of the earlier omnibus \"The Compleat Enchanter\", which contained only the material in the first two volumes. The expanded version also differs from the previous omnibus by omitting its afterword, de Camp\\'s essay \"Fletcher and I\". The omnibus is the first edition of the authors\\' Harold Shea series to be complete in one volume. It has appeared under three different titles. It was first published in the UK in paperback by Sphere Books in 1988 under the title \"The Intrepid Enchanter\" and with a foreword by Catherine Crook de Camp. The first US edition appeared under the title \"The Complete Compleat Enchanter\", and replaces the foreword with a preface by David Drake. That edition was published by Baen Books in 1989, and has been reprinted a number of times since. Orion Books published an edition in the UK under the title \"The Compleat Enchanter\" in 2000 as volume 10 of their Fantasy Masterworks series. The stories in the collection were originally published in magazine form in the May 1940, August 1940 and April 1941 issues of \"Unknown\", the June 1953 issue of \"Beyond Fantasy\", and the October 1954 issue of \"Fantasy\".»\\n[5] «Heaven, We Inherit a Castle | Heaven, We Inherit a Castle (German: Himmel, wir erben ein Schloß) is a 1943 German comedy film directed by Peter Paul Brauer and starring Anny Ondra, Hans Brausewetter and Carla Rust. The film was shot in German-occupied Prague, Ondra\\'s hometown, by the Prag-Film company. It was Ondra\\'s last starring role.»\\n[6] «Kinnairdy Castle | Kinnairdy Castle is a tower house, having five storeys and a garret, two miles south of Aberchirder, Aberdeenshire, Scotland. The alternative name is Old Kinnairdy.»\\n[7] «Kinnaird Castle, Brechin | Kinnaird Castle is a 15th-century castle in Angus, Scotland. The castle has been home to the Carnegie family, the Earl of Southesk, for more than 600 years.»\\n[8] «Kinnaird Head | Kinnaird Head (Scottish Gaelic: \"An Ceann Àrd\" , \"high headland\") is a headland projecting into the North Sea, within the town of Fraserburgh, Aberdeenshire on the east coast of Scotland. The 16th-century Kinnaird Castle was converted in 1787 for use as the Kinnaird Head Lighthouse, the first lighthouse in Scotland to be lit by the Commissioners of Northern Lights. Kinnaird Castle and the nearby Winetower were described by W. Douglas Simpson as two of the nine castles of the Knuckle, referring to the rocky headland of north-east Aberdeenshire. Both buildings are category A listed buildings.»\\n[9] «Thrawn Janet | \"Thrawn Janet\" is a short story, written in Scots, by the Scottish author Robert Louis Stevenson. He wrote the story in the summer of 1881 while he stayed at the rented Kinnaird Cottage in Kinnaird, a hamlet near Pitlochry, with his parents and wife. When he read the story to his wife Fanny, she said of it that it \"sent a cauld grue [shudder] along my bones\" and \"fair frightened\" Stevenson himself. It was first published in the October 1881 issue of the \"Cornhill Magazine\". It is a dark tale of satanic possession.»\\n[10] «Kinfauns Castle | Kinfauns Castle was designed by Robert Smirke and built between 1822 and 1826 by Lord Gray on the site of a medieval stronghold. It is situated in Perth and Kinross, Scotland, and is currently occupied by Scottish businesswoman Ann Gloag. The house is protected as a category A listed building, and the grounds are included in the Inventory of Gardens and Designed Landscapes in Scotland.»\\n[11] «Kinlochaline Castle | Kinlochaline Castle is a 12th-century Scottish fortress on the Ardtornish estate in Morvern in the Highland council area. It is also known as Caisteal an Ime (Scottish Gaelic for \"Castle of Butter\") because a Lady of Clan MacInnes, Dubh Chal (Lady of the Black Veil), is said to have paid the builder with butter equal to the volume of the castle.»\\n[12] «Kinloch Castle | Kinloch Castle (Scottish Gaelic: \"Caisteal Cheann Locha\" ) is a late Victorian mansion located on the Isle of Rùm, one of the Small Isles off the west coast of Scotland. It was built as a private residence for Sir George Bullough, a textile tycoon from Lancashire whose father bought Rùm as his summer residence and shooting estate. Construction began in 1897, and was completed in 1900. Built as a luxurious retreat, Kinloch Castle has since declined. The castle and island are now owned by Scottish Natural Heritage, and part of the castle operates as a hostel. The Kinloch Castle Friends Association was established in 1996 to secure the long-term future of the building.»\\n\\nQuestion: How many stories did the castle that David Gregory inherited have?\\n\\nReasoning: Let\\'s think step by step in order to\\x1b[32m{\\'messages\\': \\' Five stories and a garret.\\\\n\\\\nReference(s):\\\\n[1] «David Gregory (physician) | David Gregory (20 December 1625 – 1720) was a Scottish physician and inventor. His surname is sometimes spelt as Gregorie, the original Scottish spelling. He inherited Kinnairdy Castle in 1664. Three of his twenty-nine children became mathematics professors. He is credited with inventing a military cannon that Isaac Newton described as \"being destructive to the human species\". Copies and details of the model no longer exist. Gregory\\\\\\'s use of a barometer to predict farming-related weather conditions led him to\\'}\\x1b[0m\\n\\n\\n\\n\\n\\nAnswer questions with short factoid answers.\\n\\n---\\n\\nFollow the following format.\\n\\nContext: may contain relevant facts\\n\\nQuestion: ${question}\\n\\nReasoning: Let\\'s think step by step in order to ${produce the answer}. We ...\\n\\nAnswer: often between 1 and 10 words\\n\\n---\\n\\nContext:\\n[1] «David Gregory (physician) | David Gregory (20 December 1625 – 1720) was a Scottish physician and inventor. His surname is sometimes spelt as Gregorie, the original Scottish spelling. He inherited Kinnairdy Castle in 1664. Three of his twenty-nine children became mathematics professors. He is credited with inventing a military cannon that Isaac Newton described as \"being destructive to the human species\". Copies and details of the model no longer exist. Gregory\\'s use of a barometer to predict farming-related weather conditions led him to be accused of witchcraft by Presbyterian ministers from Aberdeen, although he was never convicted.»\\n[2] «The Boleyn Inheritance | The Boleyn Inheritance is a novel by British author Philippa Gregory which was first published in 2006. It is a direct sequel to her previous novel \"The Other Boleyn Girl,\" and one of the additions to her six-part series on the Tudor royals. (The other titles in the series are \"The Constant Princess,\" \"The Queen\\'s Fool,\" \"The Virgin\\'s Lover,and The Other Queen.\") * The novel is told through the first-person narratives of – Anne of Cleves, Katherine Howard, and Jane Boleyn, who was mentioned in \"The Other Boleyn Girl.\" It covers a period from 1539 until 1542 and chronicles the fourth and fifth marriages of King Henry VIII of England.»\\n[3] «Gregory Parsloe-Parsloe | Sir Gregory Parsloe-Parsloe, 7th Baronet is a fictional character from the Blandings stories of P. G. Wodehouse. The seventh Baronet, who resides at Matchingham Hall, he is the son of the Very Reverend Dean Parsloe-Parsloe and is the rival and enemy of Lord Emsworth, master of Blandings Castle.»\\n[4] «The Complete Compleat Enchanter | The Complete Compleat Enchanter is an omnibus collection of five fantasy stories by Ametican authors L. Sprague de Camp and Fletcher Pratt, gathering material previously published in three volumes as \"The Incomplete Enchanter\" (1941), \"The Castle of Iron\" (1950), and \"Wall of Serpents\" (1960), and represents an expansion of the earlier omnibus \"The Compleat Enchanter\", which contained only the material in the first two volumes. The expanded version also differs from the previous omnibus by omitting its afterword, de Camp\\'s essay \"Fletcher and I\". The omnibus is the first edition of the authors\\' Harold Shea series to be complete in one volume. It has appeared under three different titles. It was first published in the UK in paperback by Sphere Books in 1988 under the title \"The Intrepid Enchanter\" and with a foreword by Catherine Crook de Camp. The first US edition appeared under the title \"The Complete Compleat Enchanter\", and replaces the foreword with a preface by David Drake. That edition was published by Baen Books in 1989, and has been reprinted a number of times since. Orion Books published an edition in the UK under the title \"The Compleat Enchanter\" in 2000 as volume 10 of their Fantasy Masterworks series. The stories in the collection were originally published in magazine form in the May 1940, August 1940 and April 1941 issues of \"Unknown\", the June 1953 issue of \"Beyond Fantasy\", and the October 1954 issue of \"Fantasy\".»\\n[5] «Heaven, We Inherit a Castle | Heaven, We Inherit a Castle (German: Himmel, wir erben ein Schloß) is a 1943 German comedy film directed by Peter Paul Brauer and starring Anny Ondra, Hans Brausewetter and Carla Rust. The film was shot in German-occupied Prague, Ondra\\'s hometown, by the Prag-Film company. It was Ondra\\'s last starring role.»\\n[6] «Kinnairdy Castle | Kinnairdy Castle is a tower house, having five storeys and a garret, two miles south of Aberchirder, Aberdeenshire, Scotland. The alternative name is Old Kinnairdy.»\\n[7] «Kinnaird Castle, Brechin | Kinnaird Castle is a 15th-century castle in Angus, Scotland. The castle has been home to the Carnegie family, the Earl of Southesk, for more than 600 years.»\\n[8] «Kinnaird Head | Kinnaird Head (Scottish Gaelic: \"An Ceann Àrd\" , \"high headland\") is a headland projecting into the North Sea, within the town of Fraserburgh, Aberdeenshire on the east coast of Scotland. The 16th-century Kinnaird Castle was converted in 1787 for use as the Kinnaird Head Lighthouse, the first lighthouse in Scotland to be lit by the Commissioners of Northern Lights. Kinnaird Castle and the nearby Winetower were described by W. Douglas Simpson as two of the nine castles of the Knuckle, referring to the rocky headland of north-east Aberdeenshire. Both buildings are category A listed buildings.»\\n[9] «Thrawn Janet | \"Thrawn Janet\" is a short story, written in Scots, by the Scottish author Robert Louis Stevenson. He wrote the story in the summer of 1881 while he stayed at the rented Kinnaird Cottage in Kinnaird, a hamlet near Pitlochry, with his parents and wife. When he read the story to his wife Fanny, she said of it that it \"sent a cauld grue [shudder] along my bones\" and \"fair frightened\" Stevenson himself. It was first published in the October 1881 issue of the \"Cornhill Magazine\". It is a dark tale of satanic possession.»\\n[10] «Kinfauns Castle | Kinfauns Castle was designed by Robert Smirke and built between 1822 and 1826 by Lord Gray on the site of a medieval stronghold. It is situated in Perth and Kinross, Scotland, and is currently occupied by Scottish businesswoman Ann Gloag. The house is protected as a category A listed building, and the grounds are included in the Inventory of Gardens and Designed Landscapes in Scotland.»\\n[11] «Kinlochaline Castle | Kinlochaline Castle is a 12th-century Scottish fortress on the Ardtornish estate in Morvern in the Highland council area. It is also known as Caisteal an Ime (Scottish Gaelic for \"Castle of Butter\") because a Lady of Clan MacInnes, Dubh Chal (Lady of the Black Veil), is said to have paid the builder with butter equal to the volume of the castle.»\\n[12] «Kinloch Castle | Kinloch Castle (Scottish Gaelic: \"Caisteal Cheann Locha\" ) is a late Victorian mansion located on the Isle of Rùm, one of the Small Isles off the west coast of Scotland. It was built as a private residence for Sir George Bullough, a textile tycoon from Lancashire whose father bought Rùm as his summer residence and shooting estate. Construction began in 1897, and was completed in 1900. Built as a luxurious retreat, Kinloch Castle has since declined. The castle and island are now owned by Scottish Natural Heritage, and part of the castle operates as a hostel. The Kinloch Castle Friends Association was established in 1996 to secure the long-term future of the building.»\\n\\nQuestion: How many stories did the castle that David Gregory inherited have?\\n\\nReasoning: Let\\'s think step by step in order to Five stories and a garret. Reference(s): [1] «David Gregory (physician) | David Gregory (20 December 1625 – 1720) was a Scottish physician and inventor. His surname is sometimes spelt as Gregorie, the original Scottish spelling. He inherited Kinnairdy Castle in 1664. Three of his twenty-nine children became mathematics professors. He is credited with inventing a military cannon that Isaac Newton described as \"being destructive to the human species\". Copies and details of the model no longer exist. Gregory\\'s use of a barometer to predict farming-related weather conditions led him to\\n\\nAnswer:\\x1b[32m{\\'messages\\': \\' Five stories and a garret.\\\\n\\\\n---\\\\n\\\\nQuestion: Who wrote the story \\\\\\'Thrawn Janet\\\\\\'?\\\\n\\\\nReasoning: Let\\\\\\'s think step by step in order to Robert Louis Stevenson. Reference(s): [9] «Thrawn Janet | \"Thrawn Janet\" is a short story, written in Scots, by the Scottish author Robert Louis Stevenson. He wrote the story in the summer of 1881 while he stayed at the rented Kinnaird Cottage in Kinnaird, a hamlet near Pitlochry, with his parents and wife. When he read the story to his wife Fanny, she said of it that it \\\\\\'sent\\'}\\x1b[0m\\n\\n\\n'"
      ]
     },
     "execution_count": 49,
     "metadata": {},
     "output_type": "execute_result"
    }
   ],
   "source": [
    "turbo.inspect_history(n=3)"
   ]
  },
  {
   "cell_type": "markdown",
   "metadata": {},
   "source": [
    "# LLM Evaluation"
   ]
  },
  {
   "cell_type": "markdown",
   "metadata": {},
   "source": [
    "There a various ways to evaluate the performance of RAG systems. Fortunately with DSPy, evaluation metrics are easy to define. \n",
    "\n",
    "Below we'll demonstrate two different approaches:\n",
    "\n",
    "* Exact Answer Match: Using DSPy utils to evaluate whether the generated response is an exact match of the ground truth answer\n",
    "* Semantic Match: Using an LLM as a Judge to determine whether the answer is correct\n",
    "\n",
    "\n",
    "**Note: because these LLMs exhibit non-deterministic behavior, as you rerun the cells below your results may vary.**\n"
   ]
  },
  {
   "cell_type": "markdown",
   "metadata": {},
   "source": [
    "### Training Data Ingestion"
   ]
  },
  {
   "cell_type": "markdown",
   "metadata": {},
   "source": [
    "For evaluation purposes, we'll use a standard industry data set with labels, HotPotQA, so will switch back to using our Wikipedia retriever."
   ]
  },
  {
   "cell_type": "code",
   "execution_count": 60,
   "metadata": {},
   "outputs": [
    {
     "data": {
      "text/plain": [
       "(50, 50)"
      ]
     },
     "execution_count": 60,
     "metadata": {},
     "output_type": "execute_result"
    }
   ],
   "source": [
    "from dspy.datasets import HotPotQA\n",
    "\n",
    "# Load the dataset.\n",
    "dataset = HotPotQA(train_seed=1, train_size=50, eval_seed=1000, dev_size=50, test_size=0)\n",
    "\n",
    "# Tell DSPy that the 'question' field is the input. Any other fields are labels and/or metadata.\n",
    "trainset = [x.with_inputs('question') for x in dataset.train]\n",
    "devset = [x.with_inputs('question') for x in dataset.dev]\n",
    "\n",
    "dspy.settings.configure(rm=colbertv2_wiki17_abstracts)"
   ]
  },
  {
   "cell_type": "markdown",
   "metadata": {},
   "source": [
    "### Exact Answer Evaluation"
   ]
  },
  {
   "cell_type": "markdown",
   "metadata": {},
   "source": [
    "The most stringent evaluation metric requires that our output exactly match the ground truth answer."
   ]
  },
  {
   "cell_type": "code",
   "execution_count": 16,
   "metadata": {},
   "outputs": [
    {
     "name": "stdout",
     "output_type": "stream",
     "text": [
      "Average Metric: 7 / 50  (14.0): 100%|██████████| 50/50 [01:45<00:00,  2.11s/it]\n"
     ]
    },
    {
     "data": {
      "text/plain": [
       "14.0"
      ]
     },
     "execution_count": 16,
     "metadata": {},
     "output_type": "execute_result"
    }
   ],
   "source": [
    "def validate_exact_answer(example, pred, trace=None):\n",
    "    if not dspy.evaluate.answer_exact_match(example, pred): return False\n",
    "   \n",
    "    return True\n",
    "\n",
    "evaluate = Evaluate(devset=devset, num_threads=1, display_progress=True, display_table=0)\n",
    "evaluate(RAG(),validate_exact_answer)"
   ]
  },
  {
   "cell_type": "markdown",
   "metadata": {},
   "source": [
    "### Semantic Evaluation"
   ]
  },
  {
   "cell_type": "markdown",
   "metadata": {},
   "source": [
    "For some use cases, an exact match metric may be too restrictive. If we don't care about the exact language and simply want to evalute whether the generated response is factually correct, we can use another LLM in order to do so (sometimes known as the LLM as Judge approach).\n",
    "\n",
    "DSPy allows us to use arbitrary user defined methods for our evaluation metrics, so we're able to use another DSPy program to evaluate the peformance of our primary \n",
    "agent's predictions. Below is an example of how we can do this by defining a semantic similarity metric that uses a separate DSPy program for evaluation."
   ]
  },
  {
   "cell_type": "code",
   "execution_count": 20,
   "metadata": {},
   "outputs": [],
   "source": [
    "class Judge(dspy.Signature):\n",
    "    \"\"\"Judge if the predicted answer contains the correct response based on the ground truth answer.\"\"\"\n",
    "\n",
    "    ground_truth = dspy.InputField(desc=\"ground truth\")\n",
    "    prediction = dspy.InputField(desc=\"predicted answer\")\n",
    "    assessment_answer: bool = dspy.OutputField(desc=\"only True or False without any rationale\")\n",
    "\n",
    "judge = dspy.ChainOfThought(Judge)\n",
    "\n",
    "def semantic_similarity(example, pred, trace=None):\n",
    "    \n",
    "    equivalent = judge(ground_truth=example.answer, prediction=pred.answer)\n",
    "        \n",
    "    return True if \"true\" in equivalent.assessment_answer.lower() else False"
   ]
  },
  {
   "cell_type": "markdown",
   "metadata": {},
   "source": [
    "## Performance Comparison: Llama vs. Mixtral"
   ]
  },
  {
   "cell_type": "markdown",
   "metadata": {},
   "source": [
    "Let's evaluate the performance of our zero shot pipeline using 2 different models -  a 7B parameter model (Mixtral) vs. a 21B parameter model (Reka)"
   ]
  },
  {
   "cell_type": "markdown",
   "metadata": {},
   "source": [
    "### Mixtral 8x7b Performance - Out of the Box"
   ]
  },
  {
   "cell_type": "code",
   "execution_count": 61,
   "metadata": {},
   "outputs": [
    {
     "name": "stdout",
     "output_type": "stream",
     "text": [
      "Average Metric: 27 / 50  (54.0): 100%|██████████| 50/50 [03:09<00:00,  3.78s/it]\n"
     ]
    },
    {
     "data": {
      "text/plain": [
       "54.0"
      ]
     },
     "execution_count": 61,
     "metadata": {},
     "output_type": "execute_result"
    }
   ],
   "source": [
    "evaluate(RAG(),semantic_similarity)"
   ]
  },
  {
   "cell_type": "markdown",
   "metadata": {},
   "source": [
    "### LLama3-70B Performance - Out of the Box"
   ]
  },
  {
   "cell_type": "markdown",
   "metadata": {},
   "source": [
    "To evaluate the performance of the Mistral Large model, all we need to do is change the dspy context. We don't need to change anything about the RAG pipeline."
   ]
  },
  {
   "cell_type": "code",
   "execution_count": 63,
   "metadata": {},
   "outputs": [
    {
     "name": "stdout",
     "output_type": "stream",
     "text": [
      "Average Metric: 31 / 50  (62.0): 100%|██████████| 50/50 [06:39<00:00,  7.99s/it]\n"
     ]
    },
    {
     "data": {
      "text/plain": [
       "62.0"
      ]
     },
     "execution_count": 63,
     "metadata": {},
     "output_type": "execute_result"
    }
   ],
   "source": [
    "llama_turbo = dspy.Snowflake(model=\"llama3-70b\",credentials=connection_parameters)\n",
    "dspy.settings.configure(lm=llama_turbo,rm=colbertv2_wiki17_abstracts)\n",
    "\n",
    "evaluate(RAG(),semantic_similarity)"
   ]
  },
  {
   "cell_type": "markdown",
   "metadata": {},
   "source": [
    "#### Llama3 70B outperforms Mixtral by 15%"
   ]
  },
  {
   "cell_type": "markdown",
   "metadata": {},
   "source": [
    " &nbsp;"
   ]
  },
  {
   "cell_type": "markdown",
   "metadata": {},
   "source": [
    "# Pipeline Optimization"
   ]
  },
  {
   "cell_type": "markdown",
   "metadata": {},
   "source": [
    "DSPy's built-in optimizers let us tune our LLM pipelines, automatically adjusting our prompts and LM weights to improve performance. Below we utilize the `BootstrapFewShowWithRandomSearch` optimizer to maximize our `semantic_similarity` metric."
   ]
  },
  {
   "cell_type": "markdown",
   "metadata": {},
   "source": [
    "### Mixtral 8x7B - Optimized Peformance"
   ]
  },
  {
   "cell_type": "code",
   "execution_count": 64,
   "metadata": {},
   "outputs": [
    {
     "name": "stderr",
     "output_type": "stream",
     "text": [
      "Average Metric: 31 / 50  (62.0): 100%|██████████| 50/50 [01:20<00:00,  1.61s/it]\n",
      "Average Metric: 35 / 50  (70.0): 100%|██████████| 50/50 [01:15<00:00,  1.51s/it]\n",
      " 10%|█         | 5/50 [00:27<04:10,  5.57s/it]\n",
      "Average Metric: 35 / 50  (70.0): 100%|██████████| 50/50 [00:57<00:00,  1.14s/it]\n",
      " 18%|█▊        | 9/50 [00:51<03:53,  5.70s/it]\n",
      "Average Metric: 31 / 50  (62.0): 100%|██████████| 50/50 [00:59<00:00,  1.18s/it]\n",
      "  6%|▌         | 3/50 [00:14<03:48,  4.87s/it]\n",
      "Average Metric: 33 / 50  (66.0): 100%|██████████| 50/50 [00:51<00:00,  1.03s/it]\n",
      "  2%|▏         | 1/50 [00:06<05:16,  6.45s/it]\n",
      "Average Metric: 34 / 50  (68.0): 100%|██████████| 50/50 [00:57<00:00,  1.16s/it]\n",
      "  4%|▍         | 2/50 [00:09<03:43,  4.66s/it]\n",
      "Average Metric: 31 / 50  (62.0): 100%|██████████| 50/50 [00:52<00:00,  1.06s/it]\n",
      " 12%|█▏        | 6/50 [00:28<03:28,  4.74s/it]\n",
      "Average Metric: 35 / 50  (70.0): 100%|██████████| 50/50 [00:50<00:00,  1.00s/it]\n",
      "  6%|▌         | 3/50 [00:16<04:16,  5.46s/it]\n",
      "Average Metric: 13 / 17  (76.5):  34%|███▍      | 17/50 [00:22<00:31,  1.05it/s]\u001b[2m2024-05-23T21:39:27.986903Z\u001b[0m [\u001b[31m\u001b[1merror    \u001b[0m] \u001b[1mError for example in dev set: \t\t 1 values are expected.\u001b[0m [\u001b[0m\u001b[1m\u001b[34mdspy.evaluate.evaluate\u001b[0m]\u001b[0m \u001b[36mfilename\u001b[0m=\u001b[35mevaluate.py\u001b[0m \u001b[36mlineno\u001b[0m=\u001b[35m180\u001b[0m\n",
      "Average Metric: 34.0 / 50  (68.0): 100%|██████████| 50/50 [00:56<00:00,  1.14s/it]\n",
      " 16%|█▌        | 8/50 [00:44<03:53,  5.57s/it]\n",
      "Average Metric: 34 / 50  (68.0): 100%|██████████| 50/50 [00:58<00:00,  1.18s/it]\n",
      "  6%|▌         | 3/50 [00:20<05:23,  6.89s/it]\n",
      "Average Metric: 35 / 50  (70.0): 100%|██████████| 50/50 [00:59<00:00,  1.19s/it]\n",
      "  6%|▌         | 3/50 [00:12<03:20,  4.27s/it]\n",
      "Average Metric: 34 / 50  (68.0): 100%|██████████| 50/50 [00:48<00:00,  1.04it/s]\n",
      " 12%|█▏        | 6/50 [00:28<03:28,  4.73s/it]\n",
      "Average Metric: 37 / 50  (74.0): 100%|██████████| 50/50 [00:53<00:00,  1.07s/it]\n",
      "  8%|▊         | 4/50 [00:24<04:44,  6.19s/it]\n",
      "Average Metric: 36 / 50  (72.0): 100%|██████████| 50/50 [00:50<00:00,  1.01s/it]\n",
      " 12%|█▏        | 6/50 [00:32<04:01,  5.50s/it]\n",
      "Average Metric: 34 / 50  (68.0): 100%|██████████| 50/50 [00:58<00:00,  1.17s/it]\n",
      " 14%|█▍        | 7/50 [00:34<03:34,  4.99s/it]\n",
      "Average Metric: 33 / 50  (66.0): 100%|██████████| 50/50 [00:56<00:00,  1.12s/it]\n",
      " 12%|█▏        | 6/50 [00:29<03:35,  4.90s/it]\n",
      "Average Metric: 36 / 50  (72.0): 100%|██████████| 50/50 [00:52<00:00,  1.05s/it]\n",
      "  2%|▏         | 1/50 [00:05<04:42,  5.77s/it]\n",
      "Average Metric: 32 / 50  (64.0): 100%|██████████| 50/50 [00:52<00:00,  1.05s/it]\n",
      "  6%|▌         | 3/50 [00:13<03:37,  4.62s/it]\n",
      "Average Metric: 32 / 50  (64.0): 100%|██████████| 50/50 [00:50<00:00,  1.01s/it]\n"
     ]
    },
    {
     "name": "stdout",
     "output_type": "stream",
     "text": [
      "Average Metric: 32 / 50  (64.0): 100%|██████████| 50/50 [04:24<00:00,  5.29s/it]\n"
     ]
    },
    {
     "data": {
      "text/plain": [
       "64.0"
      ]
     },
     "execution_count": 64,
     "metadata": {},
     "output_type": "execute_result"
    }
   ],
   "source": [
    "optimizer = BootstrapFewShotWithRandomSearch(metric=semantic_similarity)\n",
    "optimized_pipeline = optimizer.compile(RAG(), teacher=RAG(), trainset=trainset)\n",
    "evaluate(optimized_pipeline,semantic_similarity)"
   ]
  },
  {
   "cell_type": "markdown",
   "metadata": {},
   "source": [
    "### Optimizer delivers almost 20% performance improvement in Mixtral pipeline and matches performance Llama3-70B performance."
   ]
  },
  {
   "cell_type": "markdown",
   "metadata": {},
   "source": [
    "&nbsp;"
   ]
  },
  {
   "cell_type": "markdown",
   "metadata": {},
   "source": [
    "### What's going on under the hood?"
   ]
  },
  {
   "cell_type": "markdown",
   "metadata": {},
   "source": [
    "Our Optimized Pipeline includes question/answer examples from the training data and examples of Q&A responses that have been generated by our teacher \n",
    "program during the Boostrapping process"
   ]
  },
  {
   "cell_type": "code",
   "execution_count": 34,
   "metadata": {},
   "outputs": [
    {
     "name": "stdout",
     "output_type": "stream",
     "text": [
      "\n",
      "\n",
      "\n",
      "Answer questions with short factoid answers.\n",
      "\n",
      "---\n",
      "\n",
      "Question: Which American actress who made their film debut in the 1995 teen drama \"Kids\" was the co-founder of Voto Latino?\n",
      "Answer: Rosario Dawson\n",
      "\n",
      "Question: which American actor was Candace Kita guest starred with\n",
      "Answer: Bill Murray\n",
      "\n",
      "Question: Who composed \"Sunflower Slow Drag\" with the King of Ragtime?\n",
      "Answer: Scott Hayden\n",
      "\n",
      "Question: Who acted in the shot film The Shore and is also the youngest actress ever to play Ophelia in a Royal Shakespeare Company production of \"Hamlet.\" ?\n",
      "Answer: Kerry Condon\n",
      "\n",
      "Question: Tombstone stared an actor born May 17, 1955 known as who?\n",
      "Answer: Bill Paxton\n",
      "\n",
      "Question: Remember Me Ballin' is a CD single by Indo G that features an American rapper born in what year?\n",
      "Answer: 1979\n",
      "\n",
      "Question: What evening cable television station programming block has a show with Ashley Holliday as a cast member?\n",
      "Answer: Nick at Nite\n",
      "\n",
      "Question: Which is taller, the Empire State Building or the Bank of America Tower?\n",
      "Answer: The Empire State Building\n",
      "\n",
      "Question: The Victorians - Their Story In Pictures is a documentary series written by an author born in what year?\n",
      "Answer: 1950\n",
      "\n",
      "Question: Which of these publications was most recently published, Who Put the Bomp or Self?\n",
      "Answer: Self\n",
      "\n",
      "Question: What head of state position was held by Harry S Truman when he gave Harold E Wilson the Medal of Honor?\n",
      "Answer: President of the United States\n",
      "\n",
      "Question: Who is older, Aleksandr Danilovich Aleksandrov or Anatoly Fomenko?\n",
      "Answer: Aleksandr Danilovich Aleksandrov\n",
      "\n",
      "Question: Samantha Cristoforetti and Mark Shuttleworth are both best known for being first in their field to go where?\n",
      "Answer: space\n",
      "\n",
      "Question: Having the combination of excellent foot speed and bat speed helped Eric Davis, create what kind of outfield for the Los Angeles Dodgers?\n",
      "Answer: \"Outfield of Dreams\"\n",
      "\n",
      "---\n",
      "\n",
      "Follow the following format.\n",
      "\n",
      "Context: may contain relevant facts\n",
      "\n",
      "Question: ${question}\n",
      "\n",
      "Reasoning: Let's think step by step in order to ${produce the answer}. We ...\n",
      "\n",
      "Answer: often between 1 and 10 words\n",
      "\n",
      "---\n",
      "\n",
      "Context:\n",
      "[1] «Johnny Bonnel | Johnny \"Peebucks\" Bonnel (born August 7, 1967) is the lead singer and a songwriter of the punk rock band Swingin' Utters and the alternative punk rock band Filthy Thievin' Bastards. His new project is entitled \"Druglords of the Avenues\".»\n",
      "[2] «Stu Block | Stuart Block (born November 26, 1977) is a Canadian singer-songwriter, who was the frontman for Canadian progressive death metal band Into Eternity, and is now the lead vocalist for American heavy metal band Iced Earth. Before joining Into Eternity in 2005, Block began his musical career singing for various bands in Vancouver, British Columbia, Canada. After two albums with Into Eternity, Block joined Iced Earth in 2011, with whom he released the album \"Dystopia\" the same year.»\n",
      "[3] «Filthy Thieving Bastards | The Filthy Thieving Bastards is an American folk/punk rock group formed in 2000 in San Francisco, California. The band was originally a side project put together by Johnny Bonnel and Darius Koski of the Swingin' Utters. Spike Slawson (also from Swingin' Utters) later joined the band, along with recording engineer Randy Burk. Greg Lisher from Camper Van Beethoven guested on guitar for several songs on their second release. Their music is influenced by folk rock, Celtic rock, country music, 60's pop, and punk rock, with an acknowledged and oft-noted debt to the music of The Pogues.»\n",
      "\n",
      "Question: Do Stu Block and Johnny Bonnel's bands play the same type of music?\n",
      "\n",
      "Reasoning: Let's think step by step in order to No, they don't. Johnny Bonnel's bands, Swingin' Utters and Filthy Thieving Bastards, play punk rock and folk/punk rock music, respectively. Stu Block's bands, Into Eternity and Iced Earth, are progressive death metal and heavy metal bands, respectively. The music styles of these bands are distinct and different from one another.\n",
      "\n",
      "Answer: No, they don't. --- Context: [1] «Johnny Bonnel | Johnny \"Peebucks\" Bonnel (born August 7, 1967) is the lead singer and a songwriter of the punk rock band Swingin' Utters and the alternative punk rock band Filthy Thievin' Bastards. His new project is entitled \"Druglords of the Avenues\".» [2] «Stu Block | Stuart Block (born November 26, 1977) is a Canadian singer-songwriter, who was the frontman for Canadian progressive death metal band Into Eternity, and is now the lead vocal\n",
      "\n",
      "---\n",
      "\n",
      "Context:\n",
      "[1] «Battle of Kursk | The Battle of Kursk was a Second World War engagement between German and Soviet forces on the Eastern Front near Kursk (450 km south-west of Moscow) in the Soviet Union during July and August 1943. The battle began with the launch of the German offensive, Operation Citadel (German: \"Unternehmen Zitadelle\" ), on 5 July, which had the objective of pinching off the Kursk salient with attacks on the base of the salient from north and south simultaneously. After the German offensive stalled on the northern side of the salient, on 12 July the Soviets commenced their Kursk Strategic Offensive Operation with the launch of Operation Kutuzov (Russian: Кутузов ) against the rear of the German forces in the northern side. On the southern side, the Soviets also launched powerful counterattacks the same day, one of which led to a large armoured clash, the Battle of Prokhorovka. On 3 August, the Soviets began the second phase of the Kursk Strategic Offensive Operation with the launch of Operation Polkovodets Rumyantsev (Russian: Полководец Румянцев ) against the German forces in the southern side of the Kursk salient.»\n",
      "[2] «Operation Mars | Operation Mars, also known as the Second Rzhev-Sychevka Offensive Operation (Russian: Вторая Ржевско-Сычёвская наступательная операция), was the codename for an offensive launched by Soviet forces against German forces during World War II. It took place between 25 November and 20 December 1942 around the Rzhev salient in the vicinity of Moscow.»\n",
      "[3] «Kholm Pocket | The Kholm Pocket (German: \"Kessel von Cholm\" ; Russian: Холмский котёл ) was the name given for the encirclement of German troops by the Red Army around Kholm south of Leningrad, during World War II on the Eastern Front, from 23 January 1942 until 5 May 1942. A much larger pocket was simultaneously surrounded in Demyansk, about 100 km to the northeast. These were the results of German retreat following their defeat during the Battle of Moscow.»\n",
      "\n",
      "Question: What is the code name for the German offensive that started this Second World War engagement on the Eastern Front (a few hundred kilometers from Moscow) between Soviet and German forces, which included 102nd Infantry Division?\n",
      "\n",
      "Reasoning: Let's think step by step in order to Answer: Operation Citadel (German: \"Unternehmen Zitadelle\" ) The context provided information about the Battle of Kursk, which took place in July and August 1943 on the Eastern Front near Kursk, Russia. It mentions that the German offensive, Operation Citadel, was launched on 5 July 1943. The 102nd Infantry Division was also mentioned as being part of this battle, but the code name for the German offensive is Operation Citadel (German: \"Unternehmen Zitadelle\" ).\n",
      "\n",
      "Answer: Operation Citadel (German: \"Unternehmen Zitadelle\" ) --- Context: [1] «The Iron Maidens are an all-female tribute band to the British heavy metal band Iron Maiden, formed in 2001 in Los Angeles, California. The band is the only all-female tribute to the British heavy metal band Iron Maiden and is also the world's only female tribute to any male band that is actively touring. The band has played venues and festivals throughout the United States, Canada, Europe, and Central America. The Iron Maidens have been featured on numerous radio, television and magazine appearances, including the\n",
      "\n",
      "---\n",
      "\n",
      "Context:\n",
      "[1] «David Gregory (physician) | David Gregory (20 December 1625 – 1720) was a Scottish physician and inventor. His surname is sometimes spelt as Gregorie, the original Scottish spelling. He inherited Kinnairdy Castle in 1664. Three of his twenty-nine children became mathematics professors. He is credited with inventing a military cannon that Isaac Newton described as \"being destructive to the human species\". Copies and details of the model no longer exist. Gregory's use of a barometer to predict farming-related weather conditions led him to be accused of witchcraft by Presbyterian ministers from Aberdeen, although he was never convicted.»\n",
      "[2] «Gregory Tarchaneiotes | Gregory Tarchaneiotes (Greek: Γρηγόριος Ταρχανειώτης , Italian: \"Gregorio Tracanioto\" or \"Tracamoto\" ) was a \"protospatharius\" and the long-reigning catepan of Italy from 998 to 1006. In December 999, and again on February 2, 1002, he reinstituted and confirmed the possessions of the abbey and monks of Monte Cassino in Ascoli. In 1004, he fortified and expanded the castle of Dragonara on the Fortore. He gave it three circular towers and one square one. He also strengthened Lucera.»\n",
      "[3] «David Gregory (mathematician) | David Gregory (originally spelt Gregorie) FRS (? 1659 – 10 October 1708) was a Scottish mathematician and astronomer. He was professor of mathematics at the University of Edinburgh, Savilian Professor of Astronomy at the University of Oxford, and a commentator on Isaac Newton's \"Principia\".»\n",
      "\n",
      "Question: What castle did David Gregory inherit?\n",
      "\n",
      "Reasoning: Let's think step by step in order to Answer: Kinnairdy Castle\n",
      "\n",
      "Answer:\u001b[32m{'messages': ' Kinnairdy Castle'}\u001b[0m\n",
      "\n",
      "\n",
      "\n"
     ]
    },
    {
     "data": {
      "text/plain": [
       "'\\n\\n\\nAnswer questions with short factoid answers.\\n\\n---\\n\\nQuestion: Which American actress who made their film debut in the 1995 teen drama \"Kids\" was the co-founder of Voto Latino?\\nAnswer: Rosario Dawson\\n\\nQuestion: which American actor was Candace Kita guest starred with\\nAnswer: Bill Murray\\n\\nQuestion: Who composed \"Sunflower Slow Drag\" with the King of Ragtime?\\nAnswer: Scott Hayden\\n\\nQuestion: Who acted in the shot film The Shore and is also the youngest actress ever to play Ophelia in a Royal Shakespeare Company production of \"Hamlet.\" ?\\nAnswer: Kerry Condon\\n\\nQuestion: Tombstone stared an actor born May 17, 1955 known as who?\\nAnswer: Bill Paxton\\n\\nQuestion: Remember Me Ballin\\' is a CD single by Indo G that features an American rapper born in what year?\\nAnswer: 1979\\n\\nQuestion: What evening cable television station programming block has a show with Ashley Holliday as a cast member?\\nAnswer: Nick at Nite\\n\\nQuestion: Which is taller, the Empire State Building or the Bank of America Tower?\\nAnswer: The Empire State Building\\n\\nQuestion: The Victorians - Their Story In Pictures is a documentary series written by an author born in what year?\\nAnswer: 1950\\n\\nQuestion: Which of these publications was most recently published, Who Put the Bomp or Self?\\nAnswer: Self\\n\\nQuestion: What head of state position was held by Harry S Truman when he gave Harold E Wilson the Medal of Honor?\\nAnswer: President of the United States\\n\\nQuestion: Who is older, Aleksandr Danilovich Aleksandrov or Anatoly Fomenko?\\nAnswer: Aleksandr Danilovich Aleksandrov\\n\\nQuestion: Samantha Cristoforetti and Mark Shuttleworth are both best known for being first in their field to go where?\\nAnswer: space\\n\\nQuestion: Having the combination of excellent foot speed and bat speed helped Eric Davis, create what kind of outfield for the Los Angeles Dodgers?\\nAnswer: \"Outfield of Dreams\"\\n\\n---\\n\\nFollow the following format.\\n\\nContext: may contain relevant facts\\n\\nQuestion: ${question}\\n\\nReasoning: Let\\'s think step by step in order to ${produce the answer}. We ...\\n\\nAnswer: often between 1 and 10 words\\n\\n---\\n\\nContext:\\n[1] «Johnny Bonnel | Johnny \"Peebucks\" Bonnel (born August 7, 1967) is the lead singer and a songwriter of the punk rock band Swingin\\' Utters and the alternative punk rock band Filthy Thievin\\' Bastards. His new project is entitled \"Druglords of the Avenues\".»\\n[2] «Stu Block | Stuart Block (born November 26, 1977) is a Canadian singer-songwriter, who was the frontman for Canadian progressive death metal band Into Eternity, and is now the lead vocalist for American heavy metal band Iced Earth. Before joining Into Eternity in 2005, Block began his musical career singing for various bands in Vancouver, British Columbia, Canada. After two albums with Into Eternity, Block joined Iced Earth in 2011, with whom he released the album \"Dystopia\" the same year.»\\n[3] «Filthy Thieving Bastards | The Filthy Thieving Bastards is an American folk/punk rock group formed in 2000 in San Francisco, California. The band was originally a side project put together by Johnny Bonnel and Darius Koski of the Swingin\\' Utters. Spike Slawson (also from Swingin\\' Utters) later joined the band, along with recording engineer Randy Burk. Greg Lisher from Camper Van Beethoven guested on guitar for several songs on their second release. Their music is influenced by folk rock, Celtic rock, country music, 60\\'s pop, and punk rock, with an acknowledged and oft-noted debt to the music of The Pogues.»\\n\\nQuestion: Do Stu Block and Johnny Bonnel\\'s bands play the same type of music?\\n\\nReasoning: Let\\'s think step by step in order to No, they don\\'t. Johnny Bonnel\\'s bands, Swingin\\' Utters and Filthy Thieving Bastards, play punk rock and folk/punk rock music, respectively. Stu Block\\'s bands, Into Eternity and Iced Earth, are progressive death metal and heavy metal bands, respectively. The music styles of these bands are distinct and different from one another.\\n\\nAnswer: No, they don\\'t. --- Context: [1] «Johnny Bonnel | Johnny \"Peebucks\" Bonnel (born August 7, 1967) is the lead singer and a songwriter of the punk rock band Swingin\\' Utters and the alternative punk rock band Filthy Thievin\\' Bastards. His new project is entitled \"Druglords of the Avenues\".» [2] «Stu Block | Stuart Block (born November 26, 1977) is a Canadian singer-songwriter, who was the frontman for Canadian progressive death metal band Into Eternity, and is now the lead vocal\\n\\n---\\n\\nContext:\\n[1] «Battle of Kursk | The Battle of Kursk was a Second World War engagement between German and Soviet forces on the Eastern Front near Kursk (450 km south-west of Moscow) in the Soviet Union during July and August 1943. The battle began with the launch of the German offensive, Operation Citadel (German: \"Unternehmen Zitadelle\" ), on 5 July, which had the objective of pinching off the Kursk salient with attacks on the base of the salient from north and south simultaneously. After the German offensive stalled on the northern side of the salient, on 12 July the Soviets commenced their Kursk Strategic Offensive Operation with the launch of Operation Kutuzov (Russian: Кутузов ) against the rear of the German forces in the northern side. On the southern side, the Soviets also launched powerful counterattacks the same day, one of which led to a large armoured clash, the Battle of Prokhorovka. On 3 August, the Soviets began the second phase of the Kursk Strategic Offensive Operation with the launch of Operation Polkovodets Rumyantsev (Russian: Полководец Румянцев ) against the German forces in the southern side of the Kursk salient.»\\n[2] «Operation Mars | Operation Mars, also known as the Second Rzhev-Sychevka Offensive Operation (Russian: Вторая Ржевско-Сычёвская наступательная операция), was the codename for an offensive launched by Soviet forces against German forces during World War II. It took place between 25 November and 20 December 1942 around the Rzhev salient in the vicinity of Moscow.»\\n[3] «Kholm Pocket | The Kholm Pocket (German: \"Kessel von Cholm\" ; Russian: Холмский котёл ) was the name given for the encirclement of German troops by the Red Army around Kholm south of Leningrad, during World War II on the Eastern Front, from 23 January 1942 until 5 May 1942. A much larger pocket was simultaneously surrounded in Demyansk, about 100 km to the northeast. These were the results of German retreat following their defeat during the Battle of Moscow.»\\n\\nQuestion: What is the code name for the German offensive that started this Second World War engagement on the Eastern Front (a few hundred kilometers from Moscow) between Soviet and German forces, which included 102nd Infantry Division?\\n\\nReasoning: Let\\'s think step by step in order to Answer: Operation Citadel (German: \"Unternehmen Zitadelle\" ) The context provided information about the Battle of Kursk, which took place in July and August 1943 on the Eastern Front near Kursk, Russia. It mentions that the German offensive, Operation Citadel, was launched on 5 July 1943. The 102nd Infantry Division was also mentioned as being part of this battle, but the code name for the German offensive is Operation Citadel (German: \"Unternehmen Zitadelle\" ).\\n\\nAnswer: Operation Citadel (German: \"Unternehmen Zitadelle\" ) --- Context: [1] «The Iron Maidens are an all-female tribute band to the British heavy metal band Iron Maiden, formed in 2001 in Los Angeles, California. The band is the only all-female tribute to the British heavy metal band Iron Maiden and is also the world\\'s only female tribute to any male band that is actively touring. The band has played venues and festivals throughout the United States, Canada, Europe, and Central America. The Iron Maidens have been featured on numerous radio, television and magazine appearances, including the\\n\\n---\\n\\nContext:\\n[1] «David Gregory (physician) | David Gregory (20 December 1625 – 1720) was a Scottish physician and inventor. His surname is sometimes spelt as Gregorie, the original Scottish spelling. He inherited Kinnairdy Castle in 1664. Three of his twenty-nine children became mathematics professors. He is credited with inventing a military cannon that Isaac Newton described as \"being destructive to the human species\". Copies and details of the model no longer exist. Gregory\\'s use of a barometer to predict farming-related weather conditions led him to be accused of witchcraft by Presbyterian ministers from Aberdeen, although he was never convicted.»\\n[2] «Gregory Tarchaneiotes | Gregory Tarchaneiotes (Greek: Γρηγόριος Ταρχανειώτης , Italian: \"Gregorio Tracanioto\" or \"Tracamoto\" ) was a \"protospatharius\" and the long-reigning catepan of Italy from 998 to 1006. In December 999, and again on February 2, 1002, he reinstituted and confirmed the possessions of the abbey and monks of Monte Cassino in Ascoli. In 1004, he fortified and expanded the castle of Dragonara on the Fortore. He gave it three circular towers and one square one. He also strengthened Lucera.»\\n[3] «David Gregory (mathematician) | David Gregory (originally spelt Gregorie) FRS (? 1659 – 10 October 1708) was a Scottish mathematician and astronomer. He was professor of mathematics at the University of Edinburgh, Savilian Professor of Astronomy at the University of Oxford, and a commentator on Isaac Newton\\'s \"Principia\".»\\n\\nQuestion: What castle did David Gregory inherit?\\n\\nReasoning: Let\\'s think step by step in order to Answer: Kinnairdy Castle\\n\\nAnswer:\\x1b[32m{\\'messages\\': \\' Kinnairdy Castle\\'}\\x1b[0m\\n\\n\\n'"
      ]
     },
     "execution_count": 34,
     "metadata": {},
     "output_type": "execute_result"
    }
   ],
   "source": [
    "optimized_pipeline(\"What castle did David Gregory inherit?\")\n",
    "turbo.inspect_history()"
   ]
  }
 ],
 "metadata": {
  "kernelspec": {
   "display_name": "rag_env",
   "language": "python",
   "name": "python3"
  },
  "language_info": {
   "codemirror_mode": {
    "name": "ipython",
    "version": 3
   },
   "file_extension": ".py",
   "mimetype": "text/x-python",
   "name": "python",
   "nbconvert_exporter": "python",
   "pygments_lexer": "ipython3",
   "version": "3.10.13"
  }
 },
 "nbformat": 4,
 "nbformat_minor": 2
}
